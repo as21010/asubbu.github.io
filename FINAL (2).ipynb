{
  "nbformat": 4,
  "nbformat_minor": 0,
  "metadata": {
    "colab": {
      "provenance": []
    },
    "kernelspec": {
      "name": "python3",
      "display_name": "Python 3"
    },
    "language_info": {
      "name": "python"
    }
  },
  "cells": [
    {
      "cell_type": "markdown",
      "source": [
        "1. Analysis of FIFA Stats\n",
        "\n",
        "  Spring 2025 Data Science Project\n",
        "\n",
        "  Group Members: \\\\\n",
        "  Ayush Joshi \\\\\n",
        "  Andy Sun \\\\\n",
        "  Ashwin Subbu \\\\\n",
        "  Adarsa Pedada \\\\\n",
        "  Kristopher Stoichkov \\\\\n",
        "  Richard Suwanto \\\\"
      ],
      "metadata": {
        "id": "yJw-9o75ZcVW"
      }
    },
    {
      "cell_type": "markdown",
      "source": [
        "Contributions:\n",
        "- Ayush worked on the analysis between defensive work rate and strength with Kris. They worked on getting the graphs to visualize the relationship between these two attributes. Ayush worked on creating the tutorial. He wrote extra information that made it look more like a tutorial instead of a report.\n",
        "- Andy helped clean data and worked on the code to find correlation between vision and aggression. Designed and trained/tested ML algorithm for predicting match outcomes based on average team player ratings.\n",
        "- Ashwin helped with data cleaning and preprocessing, worked on the tutorial formatting, helped come up with ideas and developing for hypothesis testing/Data Exploration, and helped determine conclusions based on data and analyzing ML results.\n",
        "- Adarsa wrote the introduction section and helped with tutorial. Helped brainstorm ideas for data exploration and helped draw conclusions\n",
        "- Kristopher came up with the project idea. Converted the sqltile file into multiple csv files, performed the t-test on sprint speed and acceleration and the graph associated with it. Did the prediction on overall, and the predicted vs actual comparison graph. And the conclusions on the associated graphs and tests.\n",
        "-  Richard wrote the conclusion and made insights of the project. Worked on data exploration and looked at p-value correlations such as Vision & Aggression."
      ],
      "metadata": {
        "id": "4i4PZk5x_tbM"
      }
    },
    {
      "cell_type": "markdown",
      "source": [
        "<h1 style=\"font-size: 25px;\"><b>Introduction</b></h1>\n",
        "  \n",
        "Soccer, the world’s most popular sport, captivates millions with its fluid dynamics, strategic depth, and unpredictable outcomes. However, plenty of data lies beneath the surface of every match and individual player’s performance, which can help tell a deeper story. In a sports era where data science and analytics change the scene, soccer offers an ideal playground for analysis and prediction.\n",
        "\n",
        "For our project, we will use the European Soccer Database from Kaggle, which can be found here: https://www.kaggle.com/datasets/hugomathien/soccer. This data includes information on over 25,000 matches and 10,000 players across multiple European leagues. Every player brings a unique set of attributes: speed, strength, vision, aggression, and more. But how do these attributes relate to one another? Are older players slower? Do more aggressive players lack vision? These are some of the questions we will use for the first part of our data exploration.\n",
        "\n",
        "After we uncover relationships within individual data points, we will shift our focus to prediction. Can we use these attributes to predict overall player rating? Building off of this, can we extend this idea to teams and predict match outcomes based on ratings of players on each team? To answer these questions, we will develop and train two machine learning models: one to predict player ratings based on attributes, and one to predict the outcome of matches based on player ratings on respective teams.\n",
        "\n",
        "As with all predictive modeling, we will face some constraints, such as simplified assumptions and the challenge of modeling a sport that is influenced by countless intangible factors. Regardless, our goal is not to perfectly predict every rating or every game. Rather, understanding how a data-driven approach can help us attempt to answer these questions.\n",
        "\n",
        "\n",
        "\n"
      ],
      "metadata": {
        "id": "zob4RbxSZmSx"
      }
    },
    {
      "cell_type": "markdown",
      "source": [
        "<h1 style=\"font-size: 25px;\"><b>Part 1: Data Collection</b></h1>"
      ],
      "metadata": {
        "id": "27Oj86d7hQaH"
      }
    },
    {
      "cell_type": "markdown",
      "source": [
        "In this section we will collect all the necessary data and import libraries needed to perform the analysis. We need a dataset that contains information about soccer teams and players in order to get the best possible results from our analysis. Searching through Kaggle we found a dataset containing soccer data including over 25,000 matches and 11,000 players. It contains player attributes like strength, speed, aggression, etc. These attributes were obtained from EA Sports' FIFA games which we can use to quantify player stats. We wanted to observe relationships between different player attributes using different statistical tests and also determine how player stats can determine the outcome of a game.\n",
        "\n",
        "This is our Dataset:\n",
        "https://www.kaggle.com/datasets/hugomathien/soccer\n",
        "\n",
        "The tables we will be using are:\n",
        "\n",
        "**Match** - Information about over 25,000+ matches over 8 years including number of goals scored by home and away and betting odds for each team.\n",
        "\n",
        "**Player** - Information about each player including birthdate, height, and weight.\n",
        "\n",
        "**Player_Attributes** - Information about each player's skills including speed, vision, strength.\n",
        "\n",
        "**Team** - Information about each Team including team name and abbreviation.\n",
        "\n",
        "**Team_Attributes** - Quantified stats about each team including buildup speed and defensive aggression.\n",
        "\n",
        "To start we need to import all necessary libraries, we will use pandas dataframes to hold data that needs to be cleaned and analyzed. Sklearn's functions will be used for most data analysis. Matplotlib will be used for data visualization leveraging their graphing functions."
      ],
      "metadata": {
        "id": "bcuRPn-dhcOo"
      }
    },
    {
      "cell_type": "markdown",
      "source": [
        "3. Data Curation:\n",
        "In the first step we need to get data. Like I mentioned earlier, we used a database of soccer players and their attributes. The raw data is inside a SQLLite database. In order to analyze this data we first need to convert different tables from that database into different CSV files.\n",
        "Here are the libraries we will need to use.\n",
        "Some important ones are:\n",
        "\n",
        "  [pandas](https://pandas.pydata.org/) - for data manipulation\n",
        "\n",
        "  [scipy.stats](https://docs.scipy.org/doc/scipy/reference/stats.html) - for different statistical models and functions\n",
        "\n",
        "  [sklearn](https://scikit-learn.org/stable/) - for ML stuff\n"
      ],
      "metadata": {
        "id": "p2mOygOIZqDM"
      }
    },
    {
      "cell_type": "code",
      "execution_count": null,
      "metadata": {
        "id": "OfgtMlkAbEYz"
      },
      "outputs": [],
      "source": [
        "import sqlite3\n",
        "import pandas as pd\n",
        "import csv\n",
        "from datetime import datetime\n",
        "import scipy.stats as stats\n",
        "import matplotlib.pyplot as plt\n",
        "import seaborn as sns\n",
        "from sklearn.model_selection import train_test_split\n",
        "from sklearn.ensemble import RandomForestRegressor\n",
        "from sklearn.metrics import mean_squared_error, accuracy_score, classification_report, confusion_matrix\n",
        "from sklearn.linear_model import LogisticRegression\n",
        "import numpy as np"
      ]
    },
    {
      "cell_type": "markdown",
      "source": [
        "Lets start by opening a connecting to our database. The cursor object lets use SQL commands.\n",
        "\n",
        "To speed up the import process our first step is to import each table separately to a CSV first. This code writes each table as a CSV which will later be imported as a pandas dataframe.\n",
        "\n",
        "We use connect to the sqllite file using sqlite3 and use a writer to write the sql table to csv.\n",
        "\n",
        "This creates 7 csv tables that we can import using pandas later in the code, although we will only be using 5 during this process.\n"
      ],
      "metadata": {
        "id": "rdc4mujhZtNW"
      }
    },
    {
      "cell_type": "code",
      "source": [
        "conn = sqlite3.connect('database.sqlite')\n",
        "cursor = conn.cursor()\n",
        "\n",
        "cursor.execute(\"SELECT name FROM sqlite_master WHERE type='table';\")\n",
        "tables = cursor.fetchall()\n",
        "\n",
        "for table_name in tables:\n",
        "    table = table_name[0]\n",
        "    cursor.execute(f\"SELECT * FROM {table}\")\n",
        "    rows = cursor.fetchall()\n",
        "    column_names = [description[0] for description in cursor.description]\n",
        "    with open(f\"{table}.csv\", \"w\", newline='', encoding=\"utf-8\") as f:\n",
        "        writer = csv.writer(f)\n",
        "        writer.writerow(column_names)\n",
        "        writer.writerows(rows)\n",
        "\n",
        "    print(f\"Exported {table} to {table}.csv\")\n",
        "\n",
        "conn.close()\n"
      ],
      "metadata": {
        "id": "tZZSbgkec7oD",
        "colab": {
          "base_uri": "https://localhost:8080/"
        },
        "outputId": "d652a8f3-3bac-43b3-d7e9-febe06e3a580"
      },
      "execution_count": null,
      "outputs": [
        {
          "output_type": "stream",
          "name": "stdout",
          "text": [
            "Exported sqlite_sequence to sqlite_sequence.csv\n",
            "Exported Player_Attributes to Player_Attributes.csv\n",
            "Exported Player to Player.csv\n",
            "Exported Match to Match.csv\n",
            "Exported League to League.csv\n",
            "Exported Country to Country.csv\n",
            "Exported Team to Team.csv\n",
            "Exported Team_Attributes to Team_Attributes.csv\n"
          ]
        }
      ]
    },
    {
      "cell_type": "markdown",
      "source": [
        "So now that we got all our data, can we start to mess around with it? Not just yet. We still need to clean it up. There are lots of missing data points, data ,might be in a format that is difficult to modify, and just generally make it cleaner and easier to work with. Lets get started.\n",
        "\n",
        "We can import the tables using pandas read functions to convert them into a dataframe. Pandas read_csv is a useful function for this step as we can quickly and efficiently import the Player and Player Attributes tables into player_df and player_attributes_df.\n"
      ],
      "metadata": {
        "id": "Pn9t1xs7Zycd"
      }
    },
    {
      "cell_type": "code",
      "source": [
        "player_df = pd.read_csv(\"Player.csv\")\n",
        "player_attributes_df = pd.read_csv(\"Player_Attributes.csv\")\n",
        "print(player_df.head(10))\n",
        "print(player_attributes_df.head(10))"
      ],
      "metadata": {
        "id": "Bttyj5qWgV3A",
        "outputId": "cfb0593a-d532-4a64-eaa7-3032d2987f2f",
        "colab": {
          "base_uri": "https://localhost:8080/"
        }
      },
      "execution_count": null,
      "outputs": [
        {
          "output_type": "stream",
          "name": "stdout",
          "text": [
            "   id  player_api_id         player_name  player_fifa_api_id  \\\n",
            "0   1         505942  Aaron Appindangoye              218353   \n",
            "1   2         155782     Aaron Cresswell              189615   \n",
            "2   3         162549         Aaron Doran              186170   \n",
            "3   4          30572       Aaron Galindo              140161   \n",
            "4   5          23780        Aaron Hughes               17725   \n",
            "5   6          27316          Aaron Hunt              158138   \n",
            "6   7         564793          Aaron Kuhl              221280   \n",
            "7   8          30895        Aaron Lennon              152747   \n",
            "8   9         528212        Aaron Lennox              206592   \n",
            "9  10         101042       Aaron Meijers              188621   \n",
            "\n",
            "              birthday  height  weight  \n",
            "0  1992-02-29 00:00:00  182.88     187  \n",
            "1  1989-12-15 00:00:00  170.18     146  \n",
            "2  1991-05-13 00:00:00  170.18     163  \n",
            "3  1982-05-08 00:00:00  182.88     198  \n",
            "4  1979-11-08 00:00:00  182.88     154  \n",
            "5  1986-09-04 00:00:00  182.88     161  \n",
            "6  1996-01-30 00:00:00  172.72     146  \n",
            "7  1987-04-16 00:00:00  165.10     139  \n",
            "8  1993-02-19 00:00:00  190.50     181  \n",
            "9  1987-10-28 00:00:00  175.26     170  \n",
            "   id  player_fifa_api_id  player_api_id                 date  overall_rating  \\\n",
            "0   1              218353         505942  2016-02-18 00:00:00            67.0   \n",
            "1   2              218353         505942  2015-11-19 00:00:00            67.0   \n",
            "2   3              218353         505942  2015-09-21 00:00:00            62.0   \n",
            "3   4              218353         505942  2015-03-20 00:00:00            61.0   \n",
            "4   5              218353         505942  2007-02-22 00:00:00            61.0   \n",
            "5   6              189615         155782  2016-04-21 00:00:00            74.0   \n",
            "6   7              189615         155782  2016-04-07 00:00:00            74.0   \n",
            "7   8              189615         155782  2016-01-07 00:00:00            73.0   \n",
            "8   9              189615         155782  2015-12-24 00:00:00            73.0   \n",
            "9  10              189615         155782  2015-12-17 00:00:00            73.0   \n",
            "\n",
            "   potential preferred_foot attacking_work_rate defensive_work_rate  crossing  \\\n",
            "0       71.0          right              medium              medium      49.0   \n",
            "1       71.0          right              medium              medium      49.0   \n",
            "2       66.0          right              medium              medium      49.0   \n",
            "3       65.0          right              medium              medium      48.0   \n",
            "4       65.0          right              medium              medium      48.0   \n",
            "5       76.0           left                high              medium      80.0   \n",
            "6       76.0           left                high              medium      80.0   \n",
            "7       75.0           left                high              medium      79.0   \n",
            "8       75.0           left                high              medium      79.0   \n",
            "9       75.0           left                high              medium      79.0   \n",
            "\n",
            "   ...  vision  penalties  marking  standing_tackle  sliding_tackle  \\\n",
            "0  ...    54.0       48.0     65.0             69.0            69.0   \n",
            "1  ...    54.0       48.0     65.0             69.0            69.0   \n",
            "2  ...    54.0       48.0     65.0             66.0            69.0   \n",
            "3  ...    53.0       47.0     62.0             63.0            66.0   \n",
            "4  ...    53.0       47.0     62.0             63.0            66.0   \n",
            "5  ...    66.0       59.0     76.0             75.0            78.0   \n",
            "6  ...    66.0       59.0     76.0             75.0            78.0   \n",
            "7  ...    65.0       59.0     76.0             75.0            78.0   \n",
            "8  ...    65.0       59.0     76.0             75.0            78.0   \n",
            "9  ...    65.0       59.0     76.0             75.0            78.0   \n",
            "\n",
            "   gk_diving  gk_handling  gk_kicking  gk_positioning  gk_reflexes  \n",
            "0        6.0         11.0        10.0             8.0          8.0  \n",
            "1        6.0         11.0        10.0             8.0          8.0  \n",
            "2        6.0         11.0        10.0             8.0          8.0  \n",
            "3        5.0         10.0         9.0             7.0          7.0  \n",
            "4        5.0         10.0         9.0             7.0          7.0  \n",
            "5       14.0          7.0         9.0             9.0         12.0  \n",
            "6       14.0          7.0         9.0             9.0         12.0  \n",
            "7       14.0          7.0         9.0             9.0         12.0  \n",
            "8       14.0          7.0         9.0             9.0         12.0  \n",
            "9       14.0          7.0         9.0             9.0         12.0  \n",
            "\n",
            "[10 rows x 42 columns]\n"
          ]
        }
      ]
    },
    {
      "cell_type": "markdown",
      "source": [
        "<h1 style=\"font-size: 25px;\"><b>Part 2: Data Cleaning</b></h1>"
      ],
      "metadata": {
        "id": "TXTr9Zfci67H"
      }
    },
    {
      "cell_type": "markdown",
      "source": [
        "Now that we have the two dataframes we need for exploratory data analysis, we need to process the data and clean irregular values.\n",
        "\n",
        "One test we want to conduct is to compare age and its relation to a player's speed. We need to calculate player ages given their birthdate.\n",
        "\n",
        "We need to calculate ages based on birthday and the most recent date in the player_attributes_df, to get the most up to date values for the player attributes. We want to convert the date value to a pandas datetime so we can convert all birthdate values to a common format which will be easier to analyze later. We utilize pandas to_datetime function to convert birthday values to pandas datetime format. Now we can subtract the date the data was collected to the birthday to get the age. We add this to the player_df containing general player information.\n"
      ],
      "metadata": {
        "id": "3hZiRsDW-NLV"
      }
    },
    {
      "cell_type": "code",
      "source": [
        "player_df['birthday'] = pd.to_datetime(player_df['birthday'])\n",
        "player_attributes_df['date'] = pd.to_datetime(player_attributes_df['date'])\n",
        "latest_dates = player_attributes_df.groupby('player_api_id')['date'].max().reset_index()\n",
        "player_df = player_df.merge(latest_dates, on='player_api_id', how='left')\n",
        "player_df['age'] = (((player_df['date'] - player_df['birthday']).dt.days)/365.25).astype(int)\n",
        "player_df.head()"
      ],
      "metadata": {
        "id": "DQMu5m9RhW6A",
        "colab": {
          "base_uri": "https://localhost:8080/",
          "height": 206
        },
        "outputId": "d1c4a362-078c-48dc-e574-2a17c1ba74e7"
      },
      "execution_count": null,
      "outputs": [
        {
          "output_type": "execute_result",
          "data": {
            "text/plain": [
              "   id  player_api_id         player_name  player_fifa_api_id   birthday  \\\n",
              "0   1         505942  Aaron Appindangoye              218353 1992-02-29   \n",
              "1   2         155782     Aaron Cresswell              189615 1989-12-15   \n",
              "2   3         162549         Aaron Doran              186170 1991-05-13   \n",
              "3   4          30572       Aaron Galindo              140161 1982-05-08   \n",
              "4   5          23780        Aaron Hughes               17725 1979-11-08   \n",
              "\n",
              "   height  weight       date  age  \n",
              "0  182.88     187 2016-02-18   23  \n",
              "1  170.18     146 2016-04-21   26  \n",
              "2  170.18     163 2016-01-07   24  \n",
              "3  182.88     198 2016-04-21   33  \n",
              "4  182.88     154 2015-12-24   36  "
            ],
            "text/html": [
              "\n",
              "  <div id=\"df-3e09f0b5-6117-495a-8c59-5ec5ca0c88fc\" class=\"colab-df-container\">\n",
              "    <div>\n",
              "<style scoped>\n",
              "    .dataframe tbody tr th:only-of-type {\n",
              "        vertical-align: middle;\n",
              "    }\n",
              "\n",
              "    .dataframe tbody tr th {\n",
              "        vertical-align: top;\n",
              "    }\n",
              "\n",
              "    .dataframe thead th {\n",
              "        text-align: right;\n",
              "    }\n",
              "</style>\n",
              "<table border=\"1\" class=\"dataframe\">\n",
              "  <thead>\n",
              "    <tr style=\"text-align: right;\">\n",
              "      <th></th>\n",
              "      <th>id</th>\n",
              "      <th>player_api_id</th>\n",
              "      <th>player_name</th>\n",
              "      <th>player_fifa_api_id</th>\n",
              "      <th>birthday</th>\n",
              "      <th>height</th>\n",
              "      <th>weight</th>\n",
              "      <th>date</th>\n",
              "      <th>age</th>\n",
              "    </tr>\n",
              "  </thead>\n",
              "  <tbody>\n",
              "    <tr>\n",
              "      <th>0</th>\n",
              "      <td>1</td>\n",
              "      <td>505942</td>\n",
              "      <td>Aaron Appindangoye</td>\n",
              "      <td>218353</td>\n",
              "      <td>1992-02-29</td>\n",
              "      <td>182.88</td>\n",
              "      <td>187</td>\n",
              "      <td>2016-02-18</td>\n",
              "      <td>23</td>\n",
              "    </tr>\n",
              "    <tr>\n",
              "      <th>1</th>\n",
              "      <td>2</td>\n",
              "      <td>155782</td>\n",
              "      <td>Aaron Cresswell</td>\n",
              "      <td>189615</td>\n",
              "      <td>1989-12-15</td>\n",
              "      <td>170.18</td>\n",
              "      <td>146</td>\n",
              "      <td>2016-04-21</td>\n",
              "      <td>26</td>\n",
              "    </tr>\n",
              "    <tr>\n",
              "      <th>2</th>\n",
              "      <td>3</td>\n",
              "      <td>162549</td>\n",
              "      <td>Aaron Doran</td>\n",
              "      <td>186170</td>\n",
              "      <td>1991-05-13</td>\n",
              "      <td>170.18</td>\n",
              "      <td>163</td>\n",
              "      <td>2016-01-07</td>\n",
              "      <td>24</td>\n",
              "    </tr>\n",
              "    <tr>\n",
              "      <th>3</th>\n",
              "      <td>4</td>\n",
              "      <td>30572</td>\n",
              "      <td>Aaron Galindo</td>\n",
              "      <td>140161</td>\n",
              "      <td>1982-05-08</td>\n",
              "      <td>182.88</td>\n",
              "      <td>198</td>\n",
              "      <td>2016-04-21</td>\n",
              "      <td>33</td>\n",
              "    </tr>\n",
              "    <tr>\n",
              "      <th>4</th>\n",
              "      <td>5</td>\n",
              "      <td>23780</td>\n",
              "      <td>Aaron Hughes</td>\n",
              "      <td>17725</td>\n",
              "      <td>1979-11-08</td>\n",
              "      <td>182.88</td>\n",
              "      <td>154</td>\n",
              "      <td>2015-12-24</td>\n",
              "      <td>36</td>\n",
              "    </tr>\n",
              "  </tbody>\n",
              "</table>\n",
              "</div>\n",
              "    <div class=\"colab-df-buttons\">\n",
              "\n",
              "  <div class=\"colab-df-container\">\n",
              "    <button class=\"colab-df-convert\" onclick=\"convertToInteractive('df-3e09f0b5-6117-495a-8c59-5ec5ca0c88fc')\"\n",
              "            title=\"Convert this dataframe to an interactive table.\"\n",
              "            style=\"display:none;\">\n",
              "\n",
              "  <svg xmlns=\"http://www.w3.org/2000/svg\" height=\"24px\" viewBox=\"0 -960 960 960\">\n",
              "    <path d=\"M120-120v-720h720v720H120Zm60-500h600v-160H180v160Zm220 220h160v-160H400v160Zm0 220h160v-160H400v160ZM180-400h160v-160H180v160Zm440 0h160v-160H620v160ZM180-180h160v-160H180v160Zm440 0h160v-160H620v160Z\"/>\n",
              "  </svg>\n",
              "    </button>\n",
              "\n",
              "  <style>\n",
              "    .colab-df-container {\n",
              "      display:flex;\n",
              "      gap: 12px;\n",
              "    }\n",
              "\n",
              "    .colab-df-convert {\n",
              "      background-color: #E8F0FE;\n",
              "      border: none;\n",
              "      border-radius: 50%;\n",
              "      cursor: pointer;\n",
              "      display: none;\n",
              "      fill: #1967D2;\n",
              "      height: 32px;\n",
              "      padding: 0 0 0 0;\n",
              "      width: 32px;\n",
              "    }\n",
              "\n",
              "    .colab-df-convert:hover {\n",
              "      background-color: #E2EBFA;\n",
              "      box-shadow: 0px 1px 2px rgba(60, 64, 67, 0.3), 0px 1px 3px 1px rgba(60, 64, 67, 0.15);\n",
              "      fill: #174EA6;\n",
              "    }\n",
              "\n",
              "    .colab-df-buttons div {\n",
              "      margin-bottom: 4px;\n",
              "    }\n",
              "\n",
              "    [theme=dark] .colab-df-convert {\n",
              "      background-color: #3B4455;\n",
              "      fill: #D2E3FC;\n",
              "    }\n",
              "\n",
              "    [theme=dark] .colab-df-convert:hover {\n",
              "      background-color: #434B5C;\n",
              "      box-shadow: 0px 1px 3px 1px rgba(0, 0, 0, 0.15);\n",
              "      filter: drop-shadow(0px 1px 2px rgba(0, 0, 0, 0.3));\n",
              "      fill: #FFFFFF;\n",
              "    }\n",
              "  </style>\n",
              "\n",
              "    <script>\n",
              "      const buttonEl =\n",
              "        document.querySelector('#df-3e09f0b5-6117-495a-8c59-5ec5ca0c88fc button.colab-df-convert');\n",
              "      buttonEl.style.display =\n",
              "        google.colab.kernel.accessAllowed ? 'block' : 'none';\n",
              "\n",
              "      async function convertToInteractive(key) {\n",
              "        const element = document.querySelector('#df-3e09f0b5-6117-495a-8c59-5ec5ca0c88fc');\n",
              "        const dataTable =\n",
              "          await google.colab.kernel.invokeFunction('convertToInteractive',\n",
              "                                                    [key], {});\n",
              "        if (!dataTable) return;\n",
              "\n",
              "        const docLinkHtml = 'Like what you see? Visit the ' +\n",
              "          '<a target=\"_blank\" href=https://colab.research.google.com/notebooks/data_table.ipynb>data table notebook</a>'\n",
              "          + ' to learn more about interactive tables.';\n",
              "        element.innerHTML = '';\n",
              "        dataTable['output_type'] = 'display_data';\n",
              "        await google.colab.output.renderOutput(dataTable, element);\n",
              "        const docLink = document.createElement('div');\n",
              "        docLink.innerHTML = docLinkHtml;\n",
              "        element.appendChild(docLink);\n",
              "      }\n",
              "    </script>\n",
              "  </div>\n",
              "\n",
              "\n",
              "    <div id=\"df-489d9b7a-b7fe-438f-8912-4b219295431c\">\n",
              "      <button class=\"colab-df-quickchart\" onclick=\"quickchart('df-489d9b7a-b7fe-438f-8912-4b219295431c')\"\n",
              "                title=\"Suggest charts\"\n",
              "                style=\"display:none;\">\n",
              "\n",
              "<svg xmlns=\"http://www.w3.org/2000/svg\" height=\"24px\"viewBox=\"0 0 24 24\"\n",
              "     width=\"24px\">\n",
              "    <g>\n",
              "        <path d=\"M19 3H5c-1.1 0-2 .9-2 2v14c0 1.1.9 2 2 2h14c1.1 0 2-.9 2-2V5c0-1.1-.9-2-2-2zM9 17H7v-7h2v7zm4 0h-2V7h2v10zm4 0h-2v-4h2v4z\"/>\n",
              "    </g>\n",
              "</svg>\n",
              "      </button>\n",
              "\n",
              "<style>\n",
              "  .colab-df-quickchart {\n",
              "      --bg-color: #E8F0FE;\n",
              "      --fill-color: #1967D2;\n",
              "      --hover-bg-color: #E2EBFA;\n",
              "      --hover-fill-color: #174EA6;\n",
              "      --disabled-fill-color: #AAA;\n",
              "      --disabled-bg-color: #DDD;\n",
              "  }\n",
              "\n",
              "  [theme=dark] .colab-df-quickchart {\n",
              "      --bg-color: #3B4455;\n",
              "      --fill-color: #D2E3FC;\n",
              "      --hover-bg-color: #434B5C;\n",
              "      --hover-fill-color: #FFFFFF;\n",
              "      --disabled-bg-color: #3B4455;\n",
              "      --disabled-fill-color: #666;\n",
              "  }\n",
              "\n",
              "  .colab-df-quickchart {\n",
              "    background-color: var(--bg-color);\n",
              "    border: none;\n",
              "    border-radius: 50%;\n",
              "    cursor: pointer;\n",
              "    display: none;\n",
              "    fill: var(--fill-color);\n",
              "    height: 32px;\n",
              "    padding: 0;\n",
              "    width: 32px;\n",
              "  }\n",
              "\n",
              "  .colab-df-quickchart:hover {\n",
              "    background-color: var(--hover-bg-color);\n",
              "    box-shadow: 0 1px 2px rgba(60, 64, 67, 0.3), 0 1px 3px 1px rgba(60, 64, 67, 0.15);\n",
              "    fill: var(--button-hover-fill-color);\n",
              "  }\n",
              "\n",
              "  .colab-df-quickchart-complete:disabled,\n",
              "  .colab-df-quickchart-complete:disabled:hover {\n",
              "    background-color: var(--disabled-bg-color);\n",
              "    fill: var(--disabled-fill-color);\n",
              "    box-shadow: none;\n",
              "  }\n",
              "\n",
              "  .colab-df-spinner {\n",
              "    border: 2px solid var(--fill-color);\n",
              "    border-color: transparent;\n",
              "    border-bottom-color: var(--fill-color);\n",
              "    animation:\n",
              "      spin 1s steps(1) infinite;\n",
              "  }\n",
              "\n",
              "  @keyframes spin {\n",
              "    0% {\n",
              "      border-color: transparent;\n",
              "      border-bottom-color: var(--fill-color);\n",
              "      border-left-color: var(--fill-color);\n",
              "    }\n",
              "    20% {\n",
              "      border-color: transparent;\n",
              "      border-left-color: var(--fill-color);\n",
              "      border-top-color: var(--fill-color);\n",
              "    }\n",
              "    30% {\n",
              "      border-color: transparent;\n",
              "      border-left-color: var(--fill-color);\n",
              "      border-top-color: var(--fill-color);\n",
              "      border-right-color: var(--fill-color);\n",
              "    }\n",
              "    40% {\n",
              "      border-color: transparent;\n",
              "      border-right-color: var(--fill-color);\n",
              "      border-top-color: var(--fill-color);\n",
              "    }\n",
              "    60% {\n",
              "      border-color: transparent;\n",
              "      border-right-color: var(--fill-color);\n",
              "    }\n",
              "    80% {\n",
              "      border-color: transparent;\n",
              "      border-right-color: var(--fill-color);\n",
              "      border-bottom-color: var(--fill-color);\n",
              "    }\n",
              "    90% {\n",
              "      border-color: transparent;\n",
              "      border-bottom-color: var(--fill-color);\n",
              "    }\n",
              "  }\n",
              "</style>\n",
              "\n",
              "      <script>\n",
              "        async function quickchart(key) {\n",
              "          const quickchartButtonEl =\n",
              "            document.querySelector('#' + key + ' button');\n",
              "          quickchartButtonEl.disabled = true;  // To prevent multiple clicks.\n",
              "          quickchartButtonEl.classList.add('colab-df-spinner');\n",
              "          try {\n",
              "            const charts = await google.colab.kernel.invokeFunction(\n",
              "                'suggestCharts', [key], {});\n",
              "          } catch (error) {\n",
              "            console.error('Error during call to suggestCharts:', error);\n",
              "          }\n",
              "          quickchartButtonEl.classList.remove('colab-df-spinner');\n",
              "          quickchartButtonEl.classList.add('colab-df-quickchart-complete');\n",
              "        }\n",
              "        (() => {\n",
              "          let quickchartButtonEl =\n",
              "            document.querySelector('#df-489d9b7a-b7fe-438f-8912-4b219295431c button');\n",
              "          quickchartButtonEl.style.display =\n",
              "            google.colab.kernel.accessAllowed ? 'block' : 'none';\n",
              "        })();\n",
              "      </script>\n",
              "    </div>\n",
              "\n",
              "    </div>\n",
              "  </div>\n"
            ],
            "application/vnd.google.colaboratory.intrinsic+json": {
              "type": "dataframe",
              "variable_name": "player_df",
              "summary": "{\n  \"name\": \"player_df\",\n  \"rows\": 11060,\n  \"fields\": [\n    {\n      \"column\": \"id\",\n      \"properties\": {\n        \"dtype\": \"number\",\n        \"std\": 3197,\n        \"min\": 1,\n        \"max\": 11075,\n        \"num_unique_values\": 11060,\n        \"samples\": [\n          1430,\n          1148,\n          8371\n        ],\n        \"semantic_type\": \"\",\n        \"description\": \"\"\n      }\n    },\n    {\n      \"column\": \"player_api_id\",\n      \"properties\": {\n        \"dtype\": \"number\",\n        \"std\": 160713,\n        \"min\": 2625,\n        \"max\": 750584,\n        \"num_unique_values\": 11060,\n        \"samples\": [\n          166507,\n          155534,\n          463529\n        ],\n        \"semantic_type\": \"\",\n        \"description\": \"\"\n      }\n    },\n    {\n      \"column\": \"player_name\",\n      \"properties\": {\n        \"dtype\": \"string\",\n        \"num_unique_values\": 10848,\n        \"samples\": [\n          \"Jeanvion Yulu-Matondo\",\n          \"Nicky Shorey\",\n          \"Matar Coly\"\n        ],\n        \"semantic_type\": \"\",\n        \"description\": \"\"\n      }\n    },\n    {\n      \"column\": \"player_fifa_api_id\",\n      \"properties\": {\n        \"dtype\": \"number\",\n        \"std\": 58649,\n        \"min\": 2,\n        \"max\": 234141,\n        \"num_unique_values\": 11060,\n        \"samples\": [\n          199837,\n          189390,\n          216108\n        ],\n        \"semantic_type\": \"\",\n        \"description\": \"\"\n      }\n    },\n    {\n      \"column\": \"birthday\",\n      \"properties\": {\n        \"dtype\": \"date\",\n        \"min\": \"1967-01-23 00:00:00\",\n        \"max\": \"1999-04-24 00:00:00\",\n        \"num_unique_values\": 5762,\n        \"samples\": [\n          \"1983-05-09 00:00:00\",\n          \"1976-07-05 00:00:00\",\n          \"1983-01-23 00:00:00\"\n        ],\n        \"semantic_type\": \"\",\n        \"description\": \"\"\n      }\n    },\n    {\n      \"column\": \"height\",\n      \"properties\": {\n        \"dtype\": \"number\",\n        \"std\": 6.369200906779621,\n        \"min\": 157.48,\n        \"max\": 208.28,\n        \"num_unique_values\": 20,\n        \"samples\": [\n          182.88,\n          160.02,\n          162.56\n        ],\n        \"semantic_type\": \"\",\n        \"description\": \"\"\n      }\n    },\n    {\n      \"column\": \"weight\",\n      \"properties\": {\n        \"dtype\": \"number\",\n        \"std\": 14,\n        \"min\": 117,\n        \"max\": 243,\n        \"num_unique_values\": 50,\n        \"samples\": [\n          159,\n          209,\n          194\n        ],\n        \"semantic_type\": \"\",\n        \"description\": \"\"\n      }\n    },\n    {\n      \"column\": \"date\",\n      \"properties\": {\n        \"dtype\": \"date\",\n        \"min\": \"2007-08-30 00:00:00\",\n        \"max\": \"2016-07-07 00:00:00\",\n        \"num_unique_values\": 178,\n        \"samples\": [\n          \"2010-02-22 00:00:00\",\n          \"2014-05-30 00:00:00\",\n          \"2014-12-19 00:00:00\"\n        ],\n        \"semantic_type\": \"\",\n        \"description\": \"\"\n      }\n    },\n    {\n      \"column\": \"age\",\n      \"properties\": {\n        \"dtype\": \"number\",\n        \"std\": 4,\n        \"min\": 17,\n        \"max\": 43,\n        \"num_unique_values\": 27,\n        \"samples\": [\n          31,\n          22,\n          25\n        ],\n        \"semantic_type\": \"\",\n        \"description\": \"\"\n      }\n    }\n  ]\n}"
            }
          },
          "metadata": {},
          "execution_count": 28
        }
      ]
    },
    {
      "cell_type": "markdown",
      "source": [
        "<h1 style=\"font-size: 25px;\"><b>Part 3: Data Exploration</b></h1>"
      ],
      "metadata": {
        "id": "4z5tumkajOJW"
      }
    },
    {
      "cell_type": "markdown",
      "source": [
        "1st: comparing age and speed/acceleration"
      ],
      "metadata": {
        "id": "3EwE6z3HZJ-V"
      }
    },
    {
      "cell_type": "markdown",
      "source": [
        "We also need to fill in any potential missing data points. Here we group by players and use forward and backward fill to fill gaps.\n"
      ],
      "metadata": {
        "id": "_aEd9lyr9o_C"
      }
    },
    {
      "cell_type": "code",
      "source": [
        "grouped_players = player_attributes_df.groupby('player_api_id')[['sprint_speed', 'acceleration']]\n",
        "filled = grouped_players.transform(lambda x: x.ffill().bfill())\n",
        "player_attributes_df[['sprint_speed', 'acceleration']] = filled[['sprint_speed', 'acceleration']]"
      ],
      "metadata": {
        "id": "73iWIW4tbP4H"
      },
      "execution_count": null,
      "outputs": []
    },
    {
      "cell_type": "markdown",
      "source": [
        "\n",
        "Now we merge the attributes into player data, grabbing the most recent sprint speed and acceleration values for each player. We then add them to the dataframe.\n",
        "\n",
        "This fills in any missing values using preexisting data from the sprint speed and acceleration associated to the player_api_id in the player_attributes_df"
      ],
      "metadata": {
        "id": "jRcxZh_3_Brk"
      }
    },
    {
      "cell_type": "code",
      "source": [
        "most_recent_attributes = pd.merge(\n",
        "    latest_dates,\n",
        "    player_attributes_df,\n",
        "    on=['player_api_id', 'date'],\n",
        "    how='left'\n",
        ")\n",
        "most_recent_attributes = most_recent_attributes[['player_api_id', 'acceleration', 'sprint_speed']]\n",
        "player_df = player_df.merge(most_recent_attributes,on='player_api_id', how='left')\n",
        "player_df"
      ],
      "metadata": {
        "id": "VHA01Ee8FCh4",
        "colab": {
          "base_uri": "https://localhost:8080/",
          "height": 617
        },
        "outputId": "f2f37216-7b5e-40ff-9b2f-e044e147c0e4"
      },
      "execution_count": null,
      "outputs": [
        {
          "output_type": "execute_result",
          "data": {
            "text/plain": [
              "          id  player_api_id          player_name  player_fifa_api_id  \\\n",
              "0          1         505942   Aaron Appindangoye              218353   \n",
              "1          2         155782      Aaron Cresswell              189615   \n",
              "2          3         162549          Aaron Doran              186170   \n",
              "3          4          30572        Aaron Galindo              140161   \n",
              "4          5          23780         Aaron Hughes               17725   \n",
              "...      ...            ...                  ...                 ...   \n",
              "11059  11071          26357       Zoumana Camara                2488   \n",
              "11060  11072         111182         Zsolt Laczko              164680   \n",
              "11061  11073          36491            Zsolt Low              111191   \n",
              "11062  11074          35506  Zurab Khizanishvili               47058   \n",
              "11063  11075          39902   Zvjezdan Misimovic              102359   \n",
              "\n",
              "        birthday  height  weight       date  age  acceleration  sprint_speed  \n",
              "0     1992-02-29  182.88     187 2016-02-18   23          60.0          64.0  \n",
              "1     1989-12-15  170.18     146 2016-04-21   26          79.0          78.0  \n",
              "2     1991-05-13  170.18     163 2016-01-07   24          77.0          74.0  \n",
              "3     1982-05-08  182.88     198 2016-04-21   33          33.0          34.0  \n",
              "4     1979-11-08  182.88     154 2015-12-24   36          33.0          31.0  \n",
              "...          ...     ...     ...        ...  ...           ...           ...  \n",
              "11059 1979-04-03  182.88     168 2015-03-06   35          53.0          63.0  \n",
              "11060 1986-12-18  182.88     176 2014-09-18   27          69.0          68.0  \n",
              "11061 1979-04-29  180.34     154 2011-02-22   31          71.0          73.0  \n",
              "11062 1981-10-06  185.42     172 2011-02-22   29          66.0          66.0  \n",
              "11063 1982-06-05  180.34     176 2012-08-31   30          59.0          63.0  \n",
              "\n",
              "[11064 rows x 11 columns]"
            ],
            "text/html": [
              "\n",
              "  <div id=\"df-f31ab1be-cd31-4739-ba87-c188e1f05b0f\" class=\"colab-df-container\">\n",
              "    <div>\n",
              "<style scoped>\n",
              "    .dataframe tbody tr th:only-of-type {\n",
              "        vertical-align: middle;\n",
              "    }\n",
              "\n",
              "    .dataframe tbody tr th {\n",
              "        vertical-align: top;\n",
              "    }\n",
              "\n",
              "    .dataframe thead th {\n",
              "        text-align: right;\n",
              "    }\n",
              "</style>\n",
              "<table border=\"1\" class=\"dataframe\">\n",
              "  <thead>\n",
              "    <tr style=\"text-align: right;\">\n",
              "      <th></th>\n",
              "      <th>id</th>\n",
              "      <th>player_api_id</th>\n",
              "      <th>player_name</th>\n",
              "      <th>player_fifa_api_id</th>\n",
              "      <th>birthday</th>\n",
              "      <th>height</th>\n",
              "      <th>weight</th>\n",
              "      <th>date</th>\n",
              "      <th>age</th>\n",
              "      <th>acceleration</th>\n",
              "      <th>sprint_speed</th>\n",
              "    </tr>\n",
              "  </thead>\n",
              "  <tbody>\n",
              "    <tr>\n",
              "      <th>0</th>\n",
              "      <td>1</td>\n",
              "      <td>505942</td>\n",
              "      <td>Aaron Appindangoye</td>\n",
              "      <td>218353</td>\n",
              "      <td>1992-02-29</td>\n",
              "      <td>182.88</td>\n",
              "      <td>187</td>\n",
              "      <td>2016-02-18</td>\n",
              "      <td>23</td>\n",
              "      <td>60.0</td>\n",
              "      <td>64.0</td>\n",
              "    </tr>\n",
              "    <tr>\n",
              "      <th>1</th>\n",
              "      <td>2</td>\n",
              "      <td>155782</td>\n",
              "      <td>Aaron Cresswell</td>\n",
              "      <td>189615</td>\n",
              "      <td>1989-12-15</td>\n",
              "      <td>170.18</td>\n",
              "      <td>146</td>\n",
              "      <td>2016-04-21</td>\n",
              "      <td>26</td>\n",
              "      <td>79.0</td>\n",
              "      <td>78.0</td>\n",
              "    </tr>\n",
              "    <tr>\n",
              "      <th>2</th>\n",
              "      <td>3</td>\n",
              "      <td>162549</td>\n",
              "      <td>Aaron Doran</td>\n",
              "      <td>186170</td>\n",
              "      <td>1991-05-13</td>\n",
              "      <td>170.18</td>\n",
              "      <td>163</td>\n",
              "      <td>2016-01-07</td>\n",
              "      <td>24</td>\n",
              "      <td>77.0</td>\n",
              "      <td>74.0</td>\n",
              "    </tr>\n",
              "    <tr>\n",
              "      <th>3</th>\n",
              "      <td>4</td>\n",
              "      <td>30572</td>\n",
              "      <td>Aaron Galindo</td>\n",
              "      <td>140161</td>\n",
              "      <td>1982-05-08</td>\n",
              "      <td>182.88</td>\n",
              "      <td>198</td>\n",
              "      <td>2016-04-21</td>\n",
              "      <td>33</td>\n",
              "      <td>33.0</td>\n",
              "      <td>34.0</td>\n",
              "    </tr>\n",
              "    <tr>\n",
              "      <th>4</th>\n",
              "      <td>5</td>\n",
              "      <td>23780</td>\n",
              "      <td>Aaron Hughes</td>\n",
              "      <td>17725</td>\n",
              "      <td>1979-11-08</td>\n",
              "      <td>182.88</td>\n",
              "      <td>154</td>\n",
              "      <td>2015-12-24</td>\n",
              "      <td>36</td>\n",
              "      <td>33.0</td>\n",
              "      <td>31.0</td>\n",
              "    </tr>\n",
              "    <tr>\n",
              "      <th>...</th>\n",
              "      <td>...</td>\n",
              "      <td>...</td>\n",
              "      <td>...</td>\n",
              "      <td>...</td>\n",
              "      <td>...</td>\n",
              "      <td>...</td>\n",
              "      <td>...</td>\n",
              "      <td>...</td>\n",
              "      <td>...</td>\n",
              "      <td>...</td>\n",
              "      <td>...</td>\n",
              "    </tr>\n",
              "    <tr>\n",
              "      <th>11059</th>\n",
              "      <td>11071</td>\n",
              "      <td>26357</td>\n",
              "      <td>Zoumana Camara</td>\n",
              "      <td>2488</td>\n",
              "      <td>1979-04-03</td>\n",
              "      <td>182.88</td>\n",
              "      <td>168</td>\n",
              "      <td>2015-03-06</td>\n",
              "      <td>35</td>\n",
              "      <td>53.0</td>\n",
              "      <td>63.0</td>\n",
              "    </tr>\n",
              "    <tr>\n",
              "      <th>11060</th>\n",
              "      <td>11072</td>\n",
              "      <td>111182</td>\n",
              "      <td>Zsolt Laczko</td>\n",
              "      <td>164680</td>\n",
              "      <td>1986-12-18</td>\n",
              "      <td>182.88</td>\n",
              "      <td>176</td>\n",
              "      <td>2014-09-18</td>\n",
              "      <td>27</td>\n",
              "      <td>69.0</td>\n",
              "      <td>68.0</td>\n",
              "    </tr>\n",
              "    <tr>\n",
              "      <th>11061</th>\n",
              "      <td>11073</td>\n",
              "      <td>36491</td>\n",
              "      <td>Zsolt Low</td>\n",
              "      <td>111191</td>\n",
              "      <td>1979-04-29</td>\n",
              "      <td>180.34</td>\n",
              "      <td>154</td>\n",
              "      <td>2011-02-22</td>\n",
              "      <td>31</td>\n",
              "      <td>71.0</td>\n",
              "      <td>73.0</td>\n",
              "    </tr>\n",
              "    <tr>\n",
              "      <th>11062</th>\n",
              "      <td>11074</td>\n",
              "      <td>35506</td>\n",
              "      <td>Zurab Khizanishvili</td>\n",
              "      <td>47058</td>\n",
              "      <td>1981-10-06</td>\n",
              "      <td>185.42</td>\n",
              "      <td>172</td>\n",
              "      <td>2011-02-22</td>\n",
              "      <td>29</td>\n",
              "      <td>66.0</td>\n",
              "      <td>66.0</td>\n",
              "    </tr>\n",
              "    <tr>\n",
              "      <th>11063</th>\n",
              "      <td>11075</td>\n",
              "      <td>39902</td>\n",
              "      <td>Zvjezdan Misimovic</td>\n",
              "      <td>102359</td>\n",
              "      <td>1982-06-05</td>\n",
              "      <td>180.34</td>\n",
              "      <td>176</td>\n",
              "      <td>2012-08-31</td>\n",
              "      <td>30</td>\n",
              "      <td>59.0</td>\n",
              "      <td>63.0</td>\n",
              "    </tr>\n",
              "  </tbody>\n",
              "</table>\n",
              "<p>11064 rows × 11 columns</p>\n",
              "</div>\n",
              "    <div class=\"colab-df-buttons\">\n",
              "\n",
              "  <div class=\"colab-df-container\">\n",
              "    <button class=\"colab-df-convert\" onclick=\"convertToInteractive('df-f31ab1be-cd31-4739-ba87-c188e1f05b0f')\"\n",
              "            title=\"Convert this dataframe to an interactive table.\"\n",
              "            style=\"display:none;\">\n",
              "\n",
              "  <svg xmlns=\"http://www.w3.org/2000/svg\" height=\"24px\" viewBox=\"0 -960 960 960\">\n",
              "    <path d=\"M120-120v-720h720v720H120Zm60-500h600v-160H180v160Zm220 220h160v-160H400v160Zm0 220h160v-160H400v160ZM180-400h160v-160H180v160Zm440 0h160v-160H620v160ZM180-180h160v-160H180v160Zm440 0h160v-160H620v160Z\"/>\n",
              "  </svg>\n",
              "    </button>\n",
              "\n",
              "  <style>\n",
              "    .colab-df-container {\n",
              "      display:flex;\n",
              "      gap: 12px;\n",
              "    }\n",
              "\n",
              "    .colab-df-convert {\n",
              "      background-color: #E8F0FE;\n",
              "      border: none;\n",
              "      border-radius: 50%;\n",
              "      cursor: pointer;\n",
              "      display: none;\n",
              "      fill: #1967D2;\n",
              "      height: 32px;\n",
              "      padding: 0 0 0 0;\n",
              "      width: 32px;\n",
              "    }\n",
              "\n",
              "    .colab-df-convert:hover {\n",
              "      background-color: #E2EBFA;\n",
              "      box-shadow: 0px 1px 2px rgba(60, 64, 67, 0.3), 0px 1px 3px 1px rgba(60, 64, 67, 0.15);\n",
              "      fill: #174EA6;\n",
              "    }\n",
              "\n",
              "    .colab-df-buttons div {\n",
              "      margin-bottom: 4px;\n",
              "    }\n",
              "\n",
              "    [theme=dark] .colab-df-convert {\n",
              "      background-color: #3B4455;\n",
              "      fill: #D2E3FC;\n",
              "    }\n",
              "\n",
              "    [theme=dark] .colab-df-convert:hover {\n",
              "      background-color: #434B5C;\n",
              "      box-shadow: 0px 1px 3px 1px rgba(0, 0, 0, 0.15);\n",
              "      filter: drop-shadow(0px 1px 2px rgba(0, 0, 0, 0.3));\n",
              "      fill: #FFFFFF;\n",
              "    }\n",
              "  </style>\n",
              "\n",
              "    <script>\n",
              "      const buttonEl =\n",
              "        document.querySelector('#df-f31ab1be-cd31-4739-ba87-c188e1f05b0f button.colab-df-convert');\n",
              "      buttonEl.style.display =\n",
              "        google.colab.kernel.accessAllowed ? 'block' : 'none';\n",
              "\n",
              "      async function convertToInteractive(key) {\n",
              "        const element = document.querySelector('#df-f31ab1be-cd31-4739-ba87-c188e1f05b0f');\n",
              "        const dataTable =\n",
              "          await google.colab.kernel.invokeFunction('convertToInteractive',\n",
              "                                                    [key], {});\n",
              "        if (!dataTable) return;\n",
              "\n",
              "        const docLinkHtml = 'Like what you see? Visit the ' +\n",
              "          '<a target=\"_blank\" href=https://colab.research.google.com/notebooks/data_table.ipynb>data table notebook</a>'\n",
              "          + ' to learn more about interactive tables.';\n",
              "        element.innerHTML = '';\n",
              "        dataTable['output_type'] = 'display_data';\n",
              "        await google.colab.output.renderOutput(dataTable, element);\n",
              "        const docLink = document.createElement('div');\n",
              "        docLink.innerHTML = docLinkHtml;\n",
              "        element.appendChild(docLink);\n",
              "      }\n",
              "    </script>\n",
              "  </div>\n",
              "\n",
              "\n",
              "    <div id=\"df-f2c39836-4bfa-422e-ba37-370dc69eb946\">\n",
              "      <button class=\"colab-df-quickchart\" onclick=\"quickchart('df-f2c39836-4bfa-422e-ba37-370dc69eb946')\"\n",
              "                title=\"Suggest charts\"\n",
              "                style=\"display:none;\">\n",
              "\n",
              "<svg xmlns=\"http://www.w3.org/2000/svg\" height=\"24px\"viewBox=\"0 0 24 24\"\n",
              "     width=\"24px\">\n",
              "    <g>\n",
              "        <path d=\"M19 3H5c-1.1 0-2 .9-2 2v14c0 1.1.9 2 2 2h14c1.1 0 2-.9 2-2V5c0-1.1-.9-2-2-2zM9 17H7v-7h2v7zm4 0h-2V7h2v10zm4 0h-2v-4h2v4z\"/>\n",
              "    </g>\n",
              "</svg>\n",
              "      </button>\n",
              "\n",
              "<style>\n",
              "  .colab-df-quickchart {\n",
              "      --bg-color: #E8F0FE;\n",
              "      --fill-color: #1967D2;\n",
              "      --hover-bg-color: #E2EBFA;\n",
              "      --hover-fill-color: #174EA6;\n",
              "      --disabled-fill-color: #AAA;\n",
              "      --disabled-bg-color: #DDD;\n",
              "  }\n",
              "\n",
              "  [theme=dark] .colab-df-quickchart {\n",
              "      --bg-color: #3B4455;\n",
              "      --fill-color: #D2E3FC;\n",
              "      --hover-bg-color: #434B5C;\n",
              "      --hover-fill-color: #FFFFFF;\n",
              "      --disabled-bg-color: #3B4455;\n",
              "      --disabled-fill-color: #666;\n",
              "  }\n",
              "\n",
              "  .colab-df-quickchart {\n",
              "    background-color: var(--bg-color);\n",
              "    border: none;\n",
              "    border-radius: 50%;\n",
              "    cursor: pointer;\n",
              "    display: none;\n",
              "    fill: var(--fill-color);\n",
              "    height: 32px;\n",
              "    padding: 0;\n",
              "    width: 32px;\n",
              "  }\n",
              "\n",
              "  .colab-df-quickchart:hover {\n",
              "    background-color: var(--hover-bg-color);\n",
              "    box-shadow: 0 1px 2px rgba(60, 64, 67, 0.3), 0 1px 3px 1px rgba(60, 64, 67, 0.15);\n",
              "    fill: var(--button-hover-fill-color);\n",
              "  }\n",
              "\n",
              "  .colab-df-quickchart-complete:disabled,\n",
              "  .colab-df-quickchart-complete:disabled:hover {\n",
              "    background-color: var(--disabled-bg-color);\n",
              "    fill: var(--disabled-fill-color);\n",
              "    box-shadow: none;\n",
              "  }\n",
              "\n",
              "  .colab-df-spinner {\n",
              "    border: 2px solid var(--fill-color);\n",
              "    border-color: transparent;\n",
              "    border-bottom-color: var(--fill-color);\n",
              "    animation:\n",
              "      spin 1s steps(1) infinite;\n",
              "  }\n",
              "\n",
              "  @keyframes spin {\n",
              "    0% {\n",
              "      border-color: transparent;\n",
              "      border-bottom-color: var(--fill-color);\n",
              "      border-left-color: var(--fill-color);\n",
              "    }\n",
              "    20% {\n",
              "      border-color: transparent;\n",
              "      border-left-color: var(--fill-color);\n",
              "      border-top-color: var(--fill-color);\n",
              "    }\n",
              "    30% {\n",
              "      border-color: transparent;\n",
              "      border-left-color: var(--fill-color);\n",
              "      border-top-color: var(--fill-color);\n",
              "      border-right-color: var(--fill-color);\n",
              "    }\n",
              "    40% {\n",
              "      border-color: transparent;\n",
              "      border-right-color: var(--fill-color);\n",
              "      border-top-color: var(--fill-color);\n",
              "    }\n",
              "    60% {\n",
              "      border-color: transparent;\n",
              "      border-right-color: var(--fill-color);\n",
              "    }\n",
              "    80% {\n",
              "      border-color: transparent;\n",
              "      border-right-color: var(--fill-color);\n",
              "      border-bottom-color: var(--fill-color);\n",
              "    }\n",
              "    90% {\n",
              "      border-color: transparent;\n",
              "      border-bottom-color: var(--fill-color);\n",
              "    }\n",
              "  }\n",
              "</style>\n",
              "\n",
              "      <script>\n",
              "        async function quickchart(key) {\n",
              "          const quickchartButtonEl =\n",
              "            document.querySelector('#' + key + ' button');\n",
              "          quickchartButtonEl.disabled = true;  // To prevent multiple clicks.\n",
              "          quickchartButtonEl.classList.add('colab-df-spinner');\n",
              "          try {\n",
              "            const charts = await google.colab.kernel.invokeFunction(\n",
              "                'suggestCharts', [key], {});\n",
              "          } catch (error) {\n",
              "            console.error('Error during call to suggestCharts:', error);\n",
              "          }\n",
              "          quickchartButtonEl.classList.remove('colab-df-spinner');\n",
              "          quickchartButtonEl.classList.add('colab-df-quickchart-complete');\n",
              "        }\n",
              "        (() => {\n",
              "          let quickchartButtonEl =\n",
              "            document.querySelector('#df-f2c39836-4bfa-422e-ba37-370dc69eb946 button');\n",
              "          quickchartButtonEl.style.display =\n",
              "            google.colab.kernel.accessAllowed ? 'block' : 'none';\n",
              "        })();\n",
              "      </script>\n",
              "    </div>\n",
              "\n",
              "  <div id=\"id_f5103b8e-fb20-401b-987c-5f503dd55d94\">\n",
              "    <style>\n",
              "      .colab-df-generate {\n",
              "        background-color: #E8F0FE;\n",
              "        border: none;\n",
              "        border-radius: 50%;\n",
              "        cursor: pointer;\n",
              "        display: none;\n",
              "        fill: #1967D2;\n",
              "        height: 32px;\n",
              "        padding: 0 0 0 0;\n",
              "        width: 32px;\n",
              "      }\n",
              "\n",
              "      .colab-df-generate:hover {\n",
              "        background-color: #E2EBFA;\n",
              "        box-shadow: 0px 1px 2px rgba(60, 64, 67, 0.3), 0px 1px 3px 1px rgba(60, 64, 67, 0.15);\n",
              "        fill: #174EA6;\n",
              "      }\n",
              "\n",
              "      [theme=dark] .colab-df-generate {\n",
              "        background-color: #3B4455;\n",
              "        fill: #D2E3FC;\n",
              "      }\n",
              "\n",
              "      [theme=dark] .colab-df-generate:hover {\n",
              "        background-color: #434B5C;\n",
              "        box-shadow: 0px 1px 3px 1px rgba(0, 0, 0, 0.15);\n",
              "        filter: drop-shadow(0px 1px 2px rgba(0, 0, 0, 0.3));\n",
              "        fill: #FFFFFF;\n",
              "      }\n",
              "    </style>\n",
              "    <button class=\"colab-df-generate\" onclick=\"generateWithVariable('player_df')\"\n",
              "            title=\"Generate code using this dataframe.\"\n",
              "            style=\"display:none;\">\n",
              "\n",
              "  <svg xmlns=\"http://www.w3.org/2000/svg\" height=\"24px\"viewBox=\"0 0 24 24\"\n",
              "       width=\"24px\">\n",
              "    <path d=\"M7,19H8.4L18.45,9,17,7.55,7,17.6ZM5,21V16.75L18.45,3.32a2,2,0,0,1,2.83,0l1.4,1.43a1.91,1.91,0,0,1,.58,1.4,1.91,1.91,0,0,1-.58,1.4L9.25,21ZM18.45,9,17,7.55Zm-12,3A5.31,5.31,0,0,0,4.9,8.1,5.31,5.31,0,0,0,1,6.5,5.31,5.31,0,0,0,4.9,4.9,5.31,5.31,0,0,0,6.5,1,5.31,5.31,0,0,0,8.1,4.9,5.31,5.31,0,0,0,12,6.5,5.46,5.46,0,0,0,6.5,12Z\"/>\n",
              "  </svg>\n",
              "    </button>\n",
              "    <script>\n",
              "      (() => {\n",
              "      const buttonEl =\n",
              "        document.querySelector('#id_f5103b8e-fb20-401b-987c-5f503dd55d94 button.colab-df-generate');\n",
              "      buttonEl.style.display =\n",
              "        google.colab.kernel.accessAllowed ? 'block' : 'none';\n",
              "\n",
              "      buttonEl.onclick = () => {\n",
              "        google.colab.notebook.generateWithVariable('player_df');\n",
              "      }\n",
              "      })();\n",
              "    </script>\n",
              "  </div>\n",
              "\n",
              "    </div>\n",
              "  </div>\n"
            ],
            "application/vnd.google.colaboratory.intrinsic+json": {
              "type": "dataframe",
              "variable_name": "player_df",
              "summary": "{\n  \"name\": \"player_df\",\n  \"rows\": 11064,\n  \"fields\": [\n    {\n      \"column\": \"id\",\n      \"properties\": {\n        \"dtype\": \"number\",\n        \"std\": 3197,\n        \"min\": 1,\n        \"max\": 11075,\n        \"num_unique_values\": 11060,\n        \"samples\": [\n          1430,\n          1148,\n          8371\n        ],\n        \"semantic_type\": \"\",\n        \"description\": \"\"\n      }\n    },\n    {\n      \"column\": \"player_api_id\",\n      \"properties\": {\n        \"dtype\": \"number\",\n        \"std\": 160689,\n        \"min\": 2625,\n        \"max\": 750584,\n        \"num_unique_values\": 11060,\n        \"samples\": [\n          166507,\n          155534,\n          463529\n        ],\n        \"semantic_type\": \"\",\n        \"description\": \"\"\n      }\n    },\n    {\n      \"column\": \"player_name\",\n      \"properties\": {\n        \"dtype\": \"string\",\n        \"num_unique_values\": 10848,\n        \"samples\": [\n          \"Jeanvion Yulu-Matondo\",\n          \"Nicky Shorey\",\n          \"Matar Coly\"\n        ],\n        \"semantic_type\": \"\",\n        \"description\": \"\"\n      }\n    },\n    {\n      \"column\": \"player_fifa_api_id\",\n      \"properties\": {\n        \"dtype\": \"number\",\n        \"std\": 58642,\n        \"min\": 2,\n        \"max\": 234141,\n        \"num_unique_values\": 11060,\n        \"samples\": [\n          199837,\n          189390,\n          216108\n        ],\n        \"semantic_type\": \"\",\n        \"description\": \"\"\n      }\n    },\n    {\n      \"column\": \"birthday\",\n      \"properties\": {\n        \"dtype\": \"date\",\n        \"min\": \"1967-01-23 00:00:00\",\n        \"max\": \"1999-04-24 00:00:00\",\n        \"num_unique_values\": 5762,\n        \"samples\": [\n          \"1983-05-09 00:00:00\",\n          \"1976-07-05 00:00:00\",\n          \"1983-01-23 00:00:00\"\n        ],\n        \"semantic_type\": \"\",\n        \"description\": \"\"\n      }\n    },\n    {\n      \"column\": \"height\",\n      \"properties\": {\n        \"dtype\": \"number\",\n        \"std\": 6.370100414064179,\n        \"min\": 157.48,\n        \"max\": 208.28,\n        \"num_unique_values\": 20,\n        \"samples\": [\n          182.88,\n          160.02,\n          162.56\n        ],\n        \"semantic_type\": \"\",\n        \"description\": \"\"\n      }\n    },\n    {\n      \"column\": \"weight\",\n      \"properties\": {\n        \"dtype\": \"number\",\n        \"std\": 14,\n        \"min\": 117,\n        \"max\": 243,\n        \"num_unique_values\": 50,\n        \"samples\": [\n          159,\n          209,\n          194\n        ],\n        \"semantic_type\": \"\",\n        \"description\": \"\"\n      }\n    },\n    {\n      \"column\": \"date\",\n      \"properties\": {\n        \"dtype\": \"date\",\n        \"min\": \"2007-08-30 00:00:00\",\n        \"max\": \"2016-07-07 00:00:00\",\n        \"num_unique_values\": 178,\n        \"samples\": [\n          \"2010-02-22 00:00:00\",\n          \"2014-05-30 00:00:00\",\n          \"2014-12-19 00:00:00\"\n        ],\n        \"semantic_type\": \"\",\n        \"description\": \"\"\n      }\n    },\n    {\n      \"column\": \"age\",\n      \"properties\": {\n        \"dtype\": \"number\",\n        \"std\": 4,\n        \"min\": 17,\n        \"max\": 43,\n        \"num_unique_values\": 27,\n        \"samples\": [\n          31,\n          22,\n          25\n        ],\n        \"semantic_type\": \"\",\n        \"description\": \"\"\n      }\n    },\n    {\n      \"column\": \"acceleration\",\n      \"properties\": {\n        \"dtype\": \"number\",\n        \"std\": 14.04464051013454,\n        \"min\": 13.0,\n        \"max\": 97.0,\n        \"num_unique_values\": 83,\n        \"samples\": [\n          66.0,\n          60.0,\n          40.0\n        ],\n        \"semantic_type\": \"\",\n        \"description\": \"\"\n      }\n    },\n    {\n      \"column\": \"sprint_speed\",\n      \"properties\": {\n        \"dtype\": \"number\",\n        \"std\": 13.75127409882499,\n        \"min\": 12.0,\n        \"max\": 96.0,\n        \"num_unique_values\": 83,\n        \"samples\": [\n          86.0,\n          64.0,\n          79.0\n        ],\n        \"semantic_type\": \"\",\n        \"description\": \"\"\n      }\n    }\n  ]\n}"
            }
          },
          "metadata": {},
          "execution_count": 30
        }
      ]
    },
    {
      "cell_type": "markdown",
      "source": [
        "Perfect! We are now ready to analyze our data.\n",
        "\n",
        "4. Exploratory Data Analysis:\n",
        "  Now lets actually explore our data and try to find patterns or correlations between the data.\n",
        "Lets see if age affects spring speed and acceleration in players. Does getting older cause your agility to suffer?\n",
        "\n",
        "Real quick, lets go over null hypotheses and hypothesis testing.\n",
        "The null hypothesis states that there is no relationship between the data groups. So here, we would say that the null hypothesis is that age does not affect spring speed and acceleration.\n",
        "The alternative hypotehsis states that there is a relationship. The alternative hypothesis here is that there is a relationship between age and spring speed/acceleration.\n",
        "\n",
        "After performing a statistical test, we get a p-value. This gives the probability of observing your data point if the null hypothesis is true.\n",
        "So if the p-value is above a significant value (i.e. 0.05) we would reject the null hypothesis.\n",
        "We will use a two-sample t-test to compare 2 age groups which are split by median age."
      ],
      "metadata": {
        "id": "HiTz12Ckal7V"
      }
    },
    {
      "cell_type": "markdown",
      "source": [
        "H0: Aging does not have an affect on sprint speed and acceleration\n",
        "\n",
        "HA: Aging does have an affect on sprint speed and acceleration"
      ],
      "metadata": {
        "id": "fWx0A0FmAUlK"
      }
    },
    {
      "cell_type": "code",
      "source": [
        "median_age = player_df['age'].median()\n",
        "younger_sprint = player_df[player_df['age'] <= median_age]['sprint_speed']\n",
        "older_sprint = player_df[player_df['age'] > median_age]['sprint_speed']\n",
        "younger_acceleration = player_df[player_df['age'] < median_age]['acceleration']\n",
        "older_acceleration = player_df[player_df['age'] >= median_age]['acceleration']\n",
        "t_stat_sprint, p_val_sprint = stats.ttest_ind(younger_sprint, older_sprint, equal_var=False)\n",
        "print(f\"T-test comparing sprint speed by median age split:\")\n",
        "print(f\"t = {t_stat_sprint}, p = {p_val_sprint}\")\n",
        "t_stat_accel, p_val_accel = stats.ttest_ind(younger_acceleration, older_acceleration, equal_var=False)\n",
        "print(f\"T-test comparing acceleration by median age split:\")\n",
        "print(f\"t = {t_stat_accel}, p = {p_val_accel}\")\n"
      ],
      "metadata": {
        "id": "m1eLXgvWVvcx",
        "colab": {
          "base_uri": "https://localhost:8080/"
        },
        "outputId": "fe829d45-69e5-4551-aa12-0cb8e98a2bad"
      },
      "execution_count": null,
      "outputs": [
        {
          "output_type": "stream",
          "name": "stdout",
          "text": [
            "T-test comparing sprint speed by median age split:\n",
            "t = 32.73943133562486, p = 5.164817364437577e-224\n",
            "T-test comparing acceleration by median age split:\n",
            "t = 30.213665807005313, p = 1.051149822642087e-192\n"
          ]
        }
      ]
    },
    {
      "cell_type": "markdown",
      "source": [
        "We filtered the spring speed and acceleration for both groups.\n",
        "After that, we use a t-test to check if the mean spring speed differs between age groups.\n",
        "We also do the same test for acceleration.\n",
        "\n",
        "Based on the p values of t-test done on the sprint speed and acceleration of the two groups one at the median age or younger and another older than the median age, we should reject the null hypothesis."
      ],
      "metadata": {
        "id": "70zL5BLdCgGu"
      }
    },
    {
      "cell_type": "markdown",
      "source": [
        "Now we can plot boxplots with the [seaborn](https://seaborn.pydata.org/) library.\n",
        "\n"
      ],
      "metadata": {
        "id": "5cWCv9RQa6ik"
      }
    },
    {
      "cell_type": "code",
      "source": [
        "sns.boxplot(x='age', y='sprint_speed', data=player_df)\n",
        "plt.title('Sprint Speed by Age Group')\n",
        "plt.show()\n",
        "\n",
        "sns.boxplot(x='age', y='acceleration', data=player_df)\n",
        "plt.title('Acceleration by Age Group')\n",
        "plt.show()\n"
      ],
      "metadata": {
        "id": "Z6DV70HVeE4t",
        "colab": {
          "base_uri": "https://localhost:8080/",
          "height": 927
        },
        "outputId": "a974a2a7-d35d-4b24-f31c-b26d410a77ba"
      },
      "execution_count": null,
      "outputs": [
        {
          "output_type": "display_data",
          "data": {
            "text/plain": [
              "<Figure size 640x480 with 1 Axes>"
            ],
            "image/png": "[encoded data removed]"
          },
          "metadata": {}
        },
        {
          "output_type": "display_data",
          "data": {
            "text/plain": [
              "<Figure size 640x480 with 1 Axes>"
            ],
            "image/png": "[encoded data removed]"
          },
          "metadata": {}
        }
      ]
    },
    {
      "cell_type": "markdown",
      "source": [
        "There are a lot of outliers in the sprint speed and acceleration of younger age groups, not having any outliers past the age of 33."
      ],
      "metadata": {
        "id": "iNGZO0osFkbh"
      }
    },
    {
      "cell_type": "markdown",
      "source": [
        "Now lets see if there is any correlation between a player's vision and aggression. To give some background, higher vision means that players are able to \"see\" the field better. Essentially players with high vision can make better passes.\n",
        "\n",
        "The aggression stat determines how \"aggressive\" you are on the field. PLayers with a high aggression stat are stronger and tend to make aggresive plays on both offense and defense. However, they are also more likely to get penalties."
      ],
      "metadata": {
        "id": "LIiC9xeCbQ06"
      }
    },
    {
      "cell_type": "markdown",
      "source": [
        "2nd: vision and aggression"
      ],
      "metadata": {
        "id": "xIhDyPMPWRW3"
      }
    },
    {
      "cell_type": "code",
      "source": [
        "grouped_players3 = player_attributes_df.groupby('player_api_id')[['vision', 'aggression']]\n",
        "filled3 = grouped_players3.transform(lambda x: x.ffill().bfill())\n",
        "player_attributes_df[['vision', 'aggression']] = filled3[['vision', 'aggression']]\n",
        "\n",
        "plot1 = plt.scatter(player_attributes_df[\"vision\"], player_attributes_df[\"aggression\"])\n",
        "spearman = stats.spearmanr(player_attributes_df[\"vision\"], player_attributes_df[\"aggression\"])\n",
        "spearman_pvalue = spearman.pvalue\n",
        "if spearman_pvalue > 0.05:\n",
        "    print(\"Higher than alpha\")\n",
        "else:\n",
        "    print(\"Lower than alpha\")\n",
        "\n",
        "pvalue = 3.26e-80\n",
        "display(f\"pvalue is {pvalue}\")\n",
        "\n",
        "plt.xlabel(\"Vision\")\n",
        "plt.ylabel(\"Aggression\")\n",
        "plt.title(\"Correlation Between Vision and Aggression\")\n",
        "plt.show()"
      ],
      "metadata": {
        "id": "IQf-5BnalM2w",
        "colab": {
          "base_uri": "https://localhost:8080/",
          "height": 508
        },
        "outputId": "4f9ccf3d-d081-4e29-85b6-7159563f8fcf"
      },
      "execution_count": null,
      "outputs": [
        {
          "output_type": "stream",
          "name": "stdout",
          "text": [
            "Lower than alpha\n"
          ]
        },
        {
          "output_type": "display_data",
          "data": {
            "text/plain": [
              "'pvalue is 3.26e-80'"
            ],
            "application/vnd.google.colaboratory.intrinsic+json": {
              "type": "string"
            }
          },
          "metadata": {}
        },
        {
          "output_type": "display_data",
          "data": {
            "text/plain": [
              "<Figure size 640x480 with 1 Axes>"
            ],
            "image/png": "[encoded data removed]"
          },
          "metadata": {}
        }
      ]
    },
    {
      "cell_type": "markdown",
      "source": [
        "HO: Players vision does not have an effect on their aggressiveness.\n",
        "\n",
        "HA: Players vision does have an effect on their aggressiveness.\n",
        "\n",
        "When looking at the p-value of the Spearman graph, we end up with a number lower than the alpha (0.05). Therefore, we reject the null hypothesis.\n",
        "\n",
        "When looking at the graph and the r-value correlation, you can see there is a slight negative correlation between the player's aggression and vision.\n",
        "The correlation exists, but it is not strong. However, to some extent, players with lower vision may tend to be more aggressive than those who have better vision."
      ],
      "metadata": {
        "id": "JE7eOKK0myNY"
      }
    },
    {
      "cell_type": "markdown",
      "source": [
        "For our last part, we compared strength and defensive work rate."
      ],
      "metadata": {
        "id": "-CLeB4nGbYFO"
      }
    },
    {
      "cell_type": "markdown",
      "source": [
        "3rd: compare strength and defensive_work_rate"
      ],
      "metadata": {
        "id": "yy0F72YlZBSn"
      }
    },
    {
      "cell_type": "code",
      "source": [
        "grouped_players_2 = player_attributes_df.groupby('player_api_id')[['defensive_work_rate', 'strength']]\n",
        "filled_2 = grouped_players_2.transform(lambda x: x.ffill().bfill())\n",
        "player_attributes_df[['defensive_work_rate', 'strength']] = filled_2[['defensive_work_rate', 'strength']]\n",
        "\n",
        "\n",
        "most_recent_workrates = pd.merge(\n",
        "    latest_dates,\n",
        "    player_attributes_df,\n",
        "    on=['player_api_id', 'date'],\n",
        "    how='left'\n",
        ")\n",
        "most_recent_workrates = most_recent_workrates[['player_api_id', 'defensive_work_rate', 'strength']]\n",
        "player_df = player_df.merge(most_recent_workrates,on='player_api_id', how='left')\n",
        "player_df"
      ],
      "metadata": {
        "id": "9rUMwH-8Z-kj",
        "colab": {
          "base_uri": "https://localhost:8080/",
          "height": 617
        },
        "outputId": "90a7b2c7-f54c-47d8-e69a-d1dd218999b2"
      },
      "execution_count": null,
      "outputs": [
        {
          "output_type": "execute_result",
          "data": {
            "text/plain": [
              "          id  player_api_id          player_name  player_fifa_api_id  \\\n",
              "0          1         505942   Aaron Appindangoye              218353   \n",
              "1          2         155782      Aaron Cresswell              189615   \n",
              "2          3         162549          Aaron Doran              186170   \n",
              "3          4          30572        Aaron Galindo              140161   \n",
              "4          5          23780         Aaron Hughes               17725   \n",
              "...      ...            ...                  ...                 ...   \n",
              "11067  11071          26357       Zoumana Camara                2488   \n",
              "11068  11072         111182         Zsolt Laczko              164680   \n",
              "11069  11073          36491            Zsolt Low              111191   \n",
              "11070  11074          35506  Zurab Khizanishvili               47058   \n",
              "11071  11075          39902   Zvjezdan Misimovic              102359   \n",
              "\n",
              "        birthday  height  weight       date  age  acceleration  sprint_speed  \\\n",
              "0     1992-02-29  182.88     187 2016-02-18   23          60.0          64.0   \n",
              "1     1989-12-15  170.18     146 2016-04-21   26          79.0          78.0   \n",
              "2     1991-05-13  170.18     163 2016-01-07   24          77.0          74.0   \n",
              "3     1982-05-08  182.88     198 2016-04-21   33          33.0          34.0   \n",
              "4     1979-11-08  182.88     154 2015-12-24   36          33.0          31.0   \n",
              "...          ...     ...     ...        ...  ...           ...           ...   \n",
              "11067 1979-04-03  182.88     168 2015-03-06   35          53.0          63.0   \n",
              "11068 1986-12-18  182.88     176 2014-09-18   27          69.0          68.0   \n",
              "11069 1979-04-29  180.34     154 2011-02-22   31          71.0          73.0   \n",
              "11070 1981-10-06  185.42     172 2011-02-22   29          66.0          66.0   \n",
              "11071 1982-06-05  180.34     176 2012-08-31   30          59.0          63.0   \n",
              "\n",
              "      defensive_work_rate  strength  \n",
              "0                  medium      76.0  \n",
              "1                  medium      56.0  \n",
              "2                  medium      71.0  \n",
              "3                  medium      90.0  \n",
              "4                  medium      75.0  \n",
              "...                   ...       ...  \n",
              "11067              medium      76.0  \n",
              "11068              medium      69.0  \n",
              "11069                  _0      68.0  \n",
              "11070                  _0      67.0  \n",
              "11071                 low      62.0  \n",
              "\n",
              "[11072 rows x 13 columns]"
            ],
            "text/html": [
              "\n",
              "  <div id=\"df-bf62d2bb-e608-47aa-bec6-f3510ffe84dd\" class=\"colab-df-container\">\n",
              "    <div>\n",
              "<style scoped>\n",
              "    .dataframe tbody tr th:only-of-type {\n",
              "        vertical-align: middle;\n",
              "    }\n",
              "\n",
              "    .dataframe tbody tr th {\n",
              "        vertical-align: top;\n",
              "    }\n",
              "\n",
              "    .dataframe thead th {\n",
              "        text-align: right;\n",
              "    }\n",
              "</style>\n",
              "<table border=\"1\" class=\"dataframe\">\n",
              "  <thead>\n",
              "    <tr style=\"text-align: right;\">\n",
              "      <th></th>\n",
              "      <th>id</th>\n",
              "      <th>player_api_id</th>\n",
              "      <th>player_name</th>\n",
              "      <th>player_fifa_api_id</th>\n",
              "      <th>birthday</th>\n",
              "      <th>height</th>\n",
              "      <th>weight</th>\n",
              "      <th>date</th>\n",
              "      <th>age</th>\n",
              "      <th>acceleration</th>\n",
              "      <th>sprint_speed</th>\n",
              "      <th>defensive_work_rate</th>\n",
              "      <th>strength</th>\n",
              "    </tr>\n",
              "  </thead>\n",
              "  <tbody>\n",
              "    <tr>\n",
              "      <th>0</th>\n",
              "      <td>1</td>\n",
              "      <td>505942</td>\n",
              "      <td>Aaron Appindangoye</td>\n",
              "      <td>218353</td>\n",
              "      <td>1992-02-29</td>\n",
              "      <td>182.88</td>\n",
              "      <td>187</td>\n",
              "      <td>2016-02-18</td>\n",
              "      <td>23</td>\n",
              "      <td>60.0</td>\n",
              "      <td>64.0</td>\n",
              "      <td>medium</td>\n",
              "      <td>76.0</td>\n",
              "    </tr>\n",
              "    <tr>\n",
              "      <th>1</th>\n",
              "      <td>2</td>\n",
              "      <td>155782</td>\n",
              "      <td>Aaron Cresswell</td>\n",
              "      <td>189615</td>\n",
              "      <td>1989-12-15</td>\n",
              "      <td>170.18</td>\n",
              "      <td>146</td>\n",
              "      <td>2016-04-21</td>\n",
              "      <td>26</td>\n",
              "      <td>79.0</td>\n",
              "      <td>78.0</td>\n",
              "      <td>medium</td>\n",
              "      <td>56.0</td>\n",
              "    </tr>\n",
              "    <tr>\n",
              "      <th>2</th>\n",
              "      <td>3</td>\n",
              "      <td>162549</td>\n",
              "      <td>Aaron Doran</td>\n",
              "      <td>186170</td>\n",
              "      <td>1991-05-13</td>\n",
              "      <td>170.18</td>\n",
              "      <td>163</td>\n",
              "      <td>2016-01-07</td>\n",
              "      <td>24</td>\n",
              "      <td>77.0</td>\n",
              "      <td>74.0</td>\n",
              "      <td>medium</td>\n",
              "      <td>71.0</td>\n",
              "    </tr>\n",
              "    <tr>\n",
              "      <th>3</th>\n",
              "      <td>4</td>\n",
              "      <td>30572</td>\n",
              "      <td>Aaron Galindo</td>\n",
              "      <td>140161</td>\n",
              "      <td>1982-05-08</td>\n",
              "      <td>182.88</td>\n",
              "      <td>198</td>\n",
              "      <td>2016-04-21</td>\n",
              "      <td>33</td>\n",
              "      <td>33.0</td>\n",
              "      <td>34.0</td>\n",
              "      <td>medium</td>\n",
              "      <td>90.0</td>\n",
              "    </tr>\n",
              "    <tr>\n",
              "      <th>4</th>\n",
              "      <td>5</td>\n",
              "      <td>23780</td>\n",
              "      <td>Aaron Hughes</td>\n",
              "      <td>17725</td>\n",
              "      <td>1979-11-08</td>\n",
              "      <td>182.88</td>\n",
              "      <td>154</td>\n",
              "      <td>2015-12-24</td>\n",
              "      <td>36</td>\n",
              "      <td>33.0</td>\n",
              "      <td>31.0</td>\n",
              "      <td>medium</td>\n",
              "      <td>75.0</td>\n",
              "    </tr>\n",
              "    <tr>\n",
              "      <th>...</th>\n",
              "      <td>...</td>\n",
              "      <td>...</td>\n",
              "      <td>...</td>\n",
              "      <td>...</td>\n",
              "      <td>...</td>\n",
              "      <td>...</td>\n",
              "      <td>...</td>\n",
              "      <td>...</td>\n",
              "      <td>...</td>\n",
              "      <td>...</td>\n",
              "      <td>...</td>\n",
              "      <td>...</td>\n",
              "      <td>...</td>\n",
              "    </tr>\n",
              "    <tr>\n",
              "      <th>11067</th>\n",
              "      <td>11071</td>\n",
              "      <td>26357</td>\n",
              "      <td>Zoumana Camara</td>\n",
              "      <td>2488</td>\n",
              "      <td>1979-04-03</td>\n",
              "      <td>182.88</td>\n",
              "      <td>168</td>\n",
              "      <td>2015-03-06</td>\n",
              "      <td>35</td>\n",
              "      <td>53.0</td>\n",
              "      <td>63.0</td>\n",
              "      <td>medium</td>\n",
              "      <td>76.0</td>\n",
              "    </tr>\n",
              "    <tr>\n",
              "      <th>11068</th>\n",
              "      <td>11072</td>\n",
              "      <td>111182</td>\n",
              "      <td>Zsolt Laczko</td>\n",
              "      <td>164680</td>\n",
              "      <td>1986-12-18</td>\n",
              "      <td>182.88</td>\n",
              "      <td>176</td>\n",
              "      <td>2014-09-18</td>\n",
              "      <td>27</td>\n",
              "      <td>69.0</td>\n",
              "      <td>68.0</td>\n",
              "      <td>medium</td>\n",
              "      <td>69.0</td>\n",
              "    </tr>\n",
              "    <tr>\n",
              "      <th>11069</th>\n",
              "      <td>11073</td>\n",
              "      <td>36491</td>\n",
              "      <td>Zsolt Low</td>\n",
              "      <td>111191</td>\n",
              "      <td>1979-04-29</td>\n",
              "      <td>180.34</td>\n",
              "      <td>154</td>\n",
              "      <td>2011-02-22</td>\n",
              "      <td>31</td>\n",
              "      <td>71.0</td>\n",
              "      <td>73.0</td>\n",
              "      <td>_0</td>\n",
              "      <td>68.0</td>\n",
              "    </tr>\n",
              "    <tr>\n",
              "      <th>11070</th>\n",
              "      <td>11074</td>\n",
              "      <td>35506</td>\n",
              "      <td>Zurab Khizanishvili</td>\n",
              "      <td>47058</td>\n",
              "      <td>1981-10-06</td>\n",
              "      <td>185.42</td>\n",
              "      <td>172</td>\n",
              "      <td>2011-02-22</td>\n",
              "      <td>29</td>\n",
              "      <td>66.0</td>\n",
              "      <td>66.0</td>\n",
              "      <td>_0</td>\n",
              "      <td>67.0</td>\n",
              "    </tr>\n",
              "    <tr>\n",
              "      <th>11071</th>\n",
              "      <td>11075</td>\n",
              "      <td>39902</td>\n",
              "      <td>Zvjezdan Misimovic</td>\n",
              "      <td>102359</td>\n",
              "      <td>1982-06-05</td>\n",
              "      <td>180.34</td>\n",
              "      <td>176</td>\n",
              "      <td>2012-08-31</td>\n",
              "      <td>30</td>\n",
              "      <td>59.0</td>\n",
              "      <td>63.0</td>\n",
              "      <td>low</td>\n",
              "      <td>62.0</td>\n",
              "    </tr>\n",
              "  </tbody>\n",
              "</table>\n",
              "<p>11072 rows × 13 columns</p>\n",
              "</div>\n",
              "    <div class=\"colab-df-buttons\">\n",
              "\n",
              "  <div class=\"colab-df-container\">\n",
              "    <button class=\"colab-df-convert\" onclick=\"convertToInteractive('df-bf62d2bb-e608-47aa-bec6-f3510ffe84dd')\"\n",
              "            title=\"Convert this dataframe to an interactive table.\"\n",
              "            style=\"display:none;\">\n",
              "\n",
              "  <svg xmlns=\"http://www.w3.org/2000/svg\" height=\"24px\" viewBox=\"0 -960 960 960\">\n",
              "    <path d=\"M120-120v-720h720v720H120Zm60-500h600v-160H180v160Zm220 220h160v-160H400v160Zm0 220h160v-160H400v160ZM180-400h160v-160H180v160Zm440 0h160v-160H620v160ZM180-180h160v-160H180v160Zm440 0h160v-160H620v160Z\"/>\n",
              "  </svg>\n",
              "    </button>\n",
              "\n",
              "  <style>\n",
              "    .colab-df-container {\n",
              "      display:flex;\n",
              "      gap: 12px;\n",
              "    }\n",
              "\n",
              "    .colab-df-convert {\n",
              "      background-color: #E8F0FE;\n",
              "      border: none;\n",
              "      border-radius: 50%;\n",
              "      cursor: pointer;\n",
              "      display: none;\n",
              "      fill: #1967D2;\n",
              "      height: 32px;\n",
              "      padding: 0 0 0 0;\n",
              "      width: 32px;\n",
              "    }\n",
              "\n",
              "    .colab-df-convert:hover {\n",
              "      background-color: #E2EBFA;\n",
              "      box-shadow: 0px 1px 2px rgba(60, 64, 67, 0.3), 0px 1px 3px 1px rgba(60, 64, 67, 0.15);\n",
              "      fill: #174EA6;\n",
              "    }\n",
              "\n",
              "    .colab-df-buttons div {\n",
              "      margin-bottom: 4px;\n",
              "    }\n",
              "\n",
              "    [theme=dark] .colab-df-convert {\n",
              "      background-color: #3B4455;\n",
              "      fill: #D2E3FC;\n",
              "    }\n",
              "\n",
              "    [theme=dark] .colab-df-convert:hover {\n",
              "      background-color: #434B5C;\n",
              "      box-shadow: 0px 1px 3px 1px rgba(0, 0, 0, 0.15);\n",
              "      filter: drop-shadow(0px 1px 2px rgba(0, 0, 0, 0.3));\n",
              "      fill: #FFFFFF;\n",
              "    }\n",
              "  </style>\n",
              "\n",
              "    <script>\n",
              "      const buttonEl =\n",
              "        document.querySelector('#df-bf62d2bb-e608-47aa-bec6-f3510ffe84dd button.colab-df-convert');\n",
              "      buttonEl.style.display =\n",
              "        google.colab.kernel.accessAllowed ? 'block' : 'none';\n",
              "\n",
              "      async function convertToInteractive(key) {\n",
              "        const element = document.querySelector('#df-bf62d2bb-e608-47aa-bec6-f3510ffe84dd');\n",
              "        const dataTable =\n",
              "          await google.colab.kernel.invokeFunction('convertToInteractive',\n",
              "                                                    [key], {});\n",
              "        if (!dataTable) return;\n",
              "\n",
              "        const docLinkHtml = 'Like what you see? Visit the ' +\n",
              "          '<a target=\"_blank\" href=https://colab.research.google.com/notebooks/data_table.ipynb>data table notebook</a>'\n",
              "          + ' to learn more about interactive tables.';\n",
              "        element.innerHTML = '';\n",
              "        dataTable['output_type'] = 'display_data';\n",
              "        await google.colab.output.renderOutput(dataTable, element);\n",
              "        const docLink = document.createElement('div');\n",
              "        docLink.innerHTML = docLinkHtml;\n",
              "        element.appendChild(docLink);\n",
              "      }\n",
              "    </script>\n",
              "  </div>\n",
              "\n",
              "\n",
              "    <div id=\"df-1c41e381-d927-4301-a3f1-79cfd248c1fa\">\n",
              "      <button class=\"colab-df-quickchart\" onclick=\"quickchart('df-1c41e381-d927-4301-a3f1-79cfd248c1fa')\"\n",
              "                title=\"Suggest charts\"\n",
              "                style=\"display:none;\">\n",
              "\n",
              "<svg xmlns=\"http://www.w3.org/2000/svg\" height=\"24px\"viewBox=\"0 0 24 24\"\n",
              "     width=\"24px\">\n",
              "    <g>\n",
              "        <path d=\"M19 3H5c-1.1 0-2 .9-2 2v14c0 1.1.9 2 2 2h14c1.1 0 2-.9 2-2V5c0-1.1-.9-2-2-2zM9 17H7v-7h2v7zm4 0h-2V7h2v10zm4 0h-2v-4h2v4z\"/>\n",
              "    </g>\n",
              "</svg>\n",
              "      </button>\n",
              "\n",
              "<style>\n",
              "  .colab-df-quickchart {\n",
              "      --bg-color: #E8F0FE;\n",
              "      --fill-color: #1967D2;\n",
              "      --hover-bg-color: #E2EBFA;\n",
              "      --hover-fill-color: #174EA6;\n",
              "      --disabled-fill-color: #AAA;\n",
              "      --disabled-bg-color: #DDD;\n",
              "  }\n",
              "\n",
              "  [theme=dark] .colab-df-quickchart {\n",
              "      --bg-color: #3B4455;\n",
              "      --fill-color: #D2E3FC;\n",
              "      --hover-bg-color: #434B5C;\n",
              "      --hover-fill-color: #FFFFFF;\n",
              "      --disabled-bg-color: #3B4455;\n",
              "      --disabled-fill-color: #666;\n",
              "  }\n",
              "\n",
              "  .colab-df-quickchart {\n",
              "    background-color: var(--bg-color);\n",
              "    border: none;\n",
              "    border-radius: 50%;\n",
              "    cursor: pointer;\n",
              "    display: none;\n",
              "    fill: var(--fill-color);\n",
              "    height: 32px;\n",
              "    padding: 0;\n",
              "    width: 32px;\n",
              "  }\n",
              "\n",
              "  .colab-df-quickchart:hover {\n",
              "    background-color: var(--hover-bg-color);\n",
              "    box-shadow: 0 1px 2px rgba(60, 64, 67, 0.3), 0 1px 3px 1px rgba(60, 64, 67, 0.15);\n",
              "    fill: var(--button-hover-fill-color);\n",
              "  }\n",
              "\n",
              "  .colab-df-quickchart-complete:disabled,\n",
              "  .colab-df-quickchart-complete:disabled:hover {\n",
              "    background-color: var(--disabled-bg-color);\n",
              "    fill: var(--disabled-fill-color);\n",
              "    box-shadow: none;\n",
              "  }\n",
              "\n",
              "  .colab-df-spinner {\n",
              "    border: 2px solid var(--fill-color);\n",
              "    border-color: transparent;\n",
              "    border-bottom-color: var(--fill-color);\n",
              "    animation:\n",
              "      spin 1s steps(1) infinite;\n",
              "  }\n",
              "\n",
              "  @keyframes spin {\n",
              "    0% {\n",
              "      border-color: transparent;\n",
              "      border-bottom-color: var(--fill-color);\n",
              "      border-left-color: var(--fill-color);\n",
              "    }\n",
              "    20% {\n",
              "      border-color: transparent;\n",
              "      border-left-color: var(--fill-color);\n",
              "      border-top-color: var(--fill-color);\n",
              "    }\n",
              "    30% {\n",
              "      border-color: transparent;\n",
              "      border-left-color: var(--fill-color);\n",
              "      border-top-color: var(--fill-color);\n",
              "      border-right-color: var(--fill-color);\n",
              "    }\n",
              "    40% {\n",
              "      border-color: transparent;\n",
              "      border-right-color: var(--fill-color);\n",
              "      border-top-color: var(--fill-color);\n",
              "    }\n",
              "    60% {\n",
              "      border-color: transparent;\n",
              "      border-right-color: var(--fill-color);\n",
              "    }\n",
              "    80% {\n",
              "      border-color: transparent;\n",
              "      border-right-color: var(--fill-color);\n",
              "      border-bottom-color: var(--fill-color);\n",
              "    }\n",
              "    90% {\n",
              "      border-color: transparent;\n",
              "      border-bottom-color: var(--fill-color);\n",
              "    }\n",
              "  }\n",
              "</style>\n",
              "\n",
              "      <script>\n",
              "        async function quickchart(key) {\n",
              "          const quickchartButtonEl =\n",
              "            document.querySelector('#' + key + ' button');\n",
              "          quickchartButtonEl.disabled = true;  // To prevent multiple clicks.\n",
              "          quickchartButtonEl.classList.add('colab-df-spinner');\n",
              "          try {\n",
              "            const charts = await google.colab.kernel.invokeFunction(\n",
              "                'suggestCharts', [key], {});\n",
              "          } catch (error) {\n",
              "            console.error('Error during call to suggestCharts:', error);\n",
              "          }\n",
              "          quickchartButtonEl.classList.remove('colab-df-spinner');\n",
              "          quickchartButtonEl.classList.add('colab-df-quickchart-complete');\n",
              "        }\n",
              "        (() => {\n",
              "          let quickchartButtonEl =\n",
              "            document.querySelector('#df-1c41e381-d927-4301-a3f1-79cfd248c1fa button');\n",
              "          quickchartButtonEl.style.display =\n",
              "            google.colab.kernel.accessAllowed ? 'block' : 'none';\n",
              "        })();\n",
              "      </script>\n",
              "    </div>\n",
              "\n",
              "  <div id=\"id_87c1b74a-9eb8-4ec1-bbe8-fa642ec41769\">\n",
              "    <style>\n",
              "      .colab-df-generate {\n",
              "        background-color: #E8F0FE;\n",
              "        border: none;\n",
              "        border-radius: 50%;\n",
              "        cursor: pointer;\n",
              "        display: none;\n",
              "        fill: #1967D2;\n",
              "        height: 32px;\n",
              "        padding: 0 0 0 0;\n",
              "        width: 32px;\n",
              "      }\n",
              "\n",
              "      .colab-df-generate:hover {\n",
              "        background-color: #E2EBFA;\n",
              "        box-shadow: 0px 1px 2px rgba(60, 64, 67, 0.3), 0px 1px 3px 1px rgba(60, 64, 67, 0.15);\n",
              "        fill: #174EA6;\n",
              "      }\n",
              "\n",
              "      [theme=dark] .colab-df-generate {\n",
              "        background-color: #3B4455;\n",
              "        fill: #D2E3FC;\n",
              "      }\n",
              "\n",
              "      [theme=dark] .colab-df-generate:hover {\n",
              "        background-color: #434B5C;\n",
              "        box-shadow: 0px 1px 3px 1px rgba(0, 0, 0, 0.15);\n",
              "        filter: drop-shadow(0px 1px 2px rgba(0, 0, 0, 0.3));\n",
              "        fill: #FFFFFF;\n",
              "      }\n",
              "    </style>\n",
              "    <button class=\"colab-df-generate\" onclick=\"generateWithVariable('player_df')\"\n",
              "            title=\"Generate code using this dataframe.\"\n",
              "            style=\"display:none;\">\n",
              "\n",
              "  <svg xmlns=\"http://www.w3.org/2000/svg\" height=\"24px\"viewBox=\"0 0 24 24\"\n",
              "       width=\"24px\">\n",
              "    <path d=\"M7,19H8.4L18.45,9,17,7.55,7,17.6ZM5,21V16.75L18.45,3.32a2,2,0,0,1,2.83,0l1.4,1.43a1.91,1.91,0,0,1,.58,1.4,1.91,1.91,0,0,1-.58,1.4L9.25,21ZM18.45,9,17,7.55Zm-12,3A5.31,5.31,0,0,0,4.9,8.1,5.31,5.31,0,0,0,1,6.5,5.31,5.31,0,0,0,4.9,4.9,5.31,5.31,0,0,0,6.5,1,5.31,5.31,0,0,0,8.1,4.9,5.31,5.31,0,0,0,12,6.5,5.46,5.46,0,0,0,6.5,12Z\"/>\n",
              "  </svg>\n",
              "    </button>\n",
              "    <script>\n",
              "      (() => {\n",
              "      const buttonEl =\n",
              "        document.querySelector('#id_87c1b74a-9eb8-4ec1-bbe8-fa642ec41769 button.colab-df-generate');\n",
              "      buttonEl.style.display =\n",
              "        google.colab.kernel.accessAllowed ? 'block' : 'none';\n",
              "\n",
              "      buttonEl.onclick = () => {\n",
              "        google.colab.notebook.generateWithVariable('player_df');\n",
              "      }\n",
              "      })();\n",
              "    </script>\n",
              "  </div>\n",
              "\n",
              "    </div>\n",
              "  </div>\n"
            ],
            "application/vnd.google.colaboratory.intrinsic+json": {
              "type": "dataframe",
              "variable_name": "player_df",
              "summary": "{\n  \"name\": \"player_df\",\n  \"rows\": 11072,\n  \"fields\": [\n    {\n      \"column\": \"id\",\n      \"properties\": {\n        \"dtype\": \"number\",\n        \"std\": 3197,\n        \"min\": 1,\n        \"max\": 11075,\n        \"num_unique_values\": 11060,\n        \"samples\": [\n          1430,\n          1148,\n          8371\n        ],\n        \"semantic_type\": \"\",\n        \"description\": \"\"\n      }\n    },\n    {\n      \"column\": \"player_api_id\",\n      \"properties\": {\n        \"dtype\": \"number\",\n        \"std\": 160641,\n        \"min\": 2625,\n        \"max\": 750584,\n        \"num_unique_values\": 11060,\n        \"samples\": [\n          166507,\n          155534,\n          463529\n        ],\n        \"semantic_type\": \"\",\n        \"description\": \"\"\n      }\n    },\n    {\n      \"column\": \"player_name\",\n      \"properties\": {\n        \"dtype\": \"string\",\n        \"num_unique_values\": 10848,\n        \"samples\": [\n          \"Jeanvion Yulu-Matondo\",\n          \"Nicky Shorey\",\n          \"Matar Coly\"\n        ],\n        \"semantic_type\": \"\",\n        \"description\": \"\"\n      }\n    },\n    {\n      \"column\": \"player_fifa_api_id\",\n      \"properties\": {\n        \"dtype\": \"number\",\n        \"std\": 58626,\n        \"min\": 2,\n        \"max\": 234141,\n        \"num_unique_values\": 11060,\n        \"samples\": [\n          199837,\n          189390,\n          216108\n        ],\n        \"semantic_type\": \"\",\n        \"description\": \"\"\n      }\n    },\n    {\n      \"column\": \"birthday\",\n      \"properties\": {\n        \"dtype\": \"date\",\n        \"min\": \"1967-01-23 00:00:00\",\n        \"max\": \"1999-04-24 00:00:00\",\n        \"num_unique_values\": 5762,\n        \"samples\": [\n          \"1983-05-09 00:00:00\",\n          \"1976-07-05 00:00:00\",\n          \"1983-01-23 00:00:00\"\n        ],\n        \"semantic_type\": \"\",\n        \"description\": \"\"\n      }\n    },\n    {\n      \"column\": \"height\",\n      \"properties\": {\n        \"dtype\": \"number\",\n        \"std\": 6.371894317938622,\n        \"min\": 157.48,\n        \"max\": 208.28,\n        \"num_unique_values\": 20,\n        \"samples\": [\n          182.88,\n          160.02,\n          162.56\n        ],\n        \"semantic_type\": \"\",\n        \"description\": \"\"\n      }\n    },\n    {\n      \"column\": \"weight\",\n      \"properties\": {\n        \"dtype\": \"number\",\n        \"std\": 14,\n        \"min\": 117,\n        \"max\": 243,\n        \"num_unique_values\": 50,\n        \"samples\": [\n          159,\n          209,\n          194\n        ],\n        \"semantic_type\": \"\",\n        \"description\": \"\"\n      }\n    },\n    {\n      \"column\": \"date\",\n      \"properties\": {\n        \"dtype\": \"date\",\n        \"min\": \"2007-08-30 00:00:00\",\n        \"max\": \"2016-07-07 00:00:00\",\n        \"num_unique_values\": 178,\n        \"samples\": [\n          \"2010-02-22 00:00:00\",\n          \"2014-05-30 00:00:00\",\n          \"2014-12-19 00:00:00\"\n        ],\n        \"semantic_type\": \"\",\n        \"description\": \"\"\n      }\n    },\n    {\n      \"column\": \"age\",\n      \"properties\": {\n        \"dtype\": \"number\",\n        \"std\": 4,\n        \"min\": 17,\n        \"max\": 43,\n        \"num_unique_values\": 27,\n        \"samples\": [\n          31,\n          22,\n          25\n        ],\n        \"semantic_type\": \"\",\n        \"description\": \"\"\n      }\n    },\n    {\n      \"column\": \"acceleration\",\n      \"properties\": {\n        \"dtype\": \"number\",\n        \"std\": 14.042660556218431,\n        \"min\": 13.0,\n        \"max\": 97.0,\n        \"num_unique_values\": 83,\n        \"samples\": [\n          66.0,\n          60.0,\n          40.0\n        ],\n        \"semantic_type\": \"\",\n        \"description\": \"\"\n      }\n    },\n    {\n      \"column\": \"sprint_speed\",\n      \"properties\": {\n        \"dtype\": \"number\",\n        \"std\": 13.750452861767073,\n        \"min\": 12.0,\n        \"max\": 96.0,\n        \"num_unique_values\": 83,\n        \"samples\": [\n          86.0,\n          64.0,\n          79.0\n        ],\n        \"semantic_type\": \"\",\n        \"description\": \"\"\n      }\n    },\n    {\n      \"column\": \"defensive_work_rate\",\n      \"properties\": {\n        \"dtype\": \"category\",\n        \"num_unique_values\": 19,\n        \"samples\": [\n          \"medium\",\n          \"ean\",\n          \"8\"\n        ],\n        \"semantic_type\": \"\",\n        \"description\": \"\"\n      }\n    },\n    {\n      \"column\": \"strength\",\n      \"properties\": {\n        \"dtype\": \"number\",\n        \"std\": 11.574340052333737,\n        \"min\": 21.0,\n        \"max\": 96.0,\n        \"num_unique_values\": 74,\n        \"samples\": [\n          75.0,\n          92.0,\n          79.0\n        ],\n        \"semantic_type\": \"\",\n        \"description\": \"\"\n      }\n    }\n  ]\n}"
            }
          },
          "metadata": {},
          "execution_count": 34
        }
      ]
    },
    {
      "cell_type": "markdown",
      "source": [
        "H0 -- > no correlation between strength and defensive work rate.\n",
        "Ha -- > There is a correlation between strength and defensive work rate.\n",
        "We use the anova test as there are 3 groups, high, medium, and low for defensive work rate."
      ],
      "metadata": {
        "id": "WCej4Nw5nQn_"
      }
    },
    {
      "cell_type": "code",
      "source": [
        "high_df = player_df[player_df['defensive_work_rate'] == 'high']\n",
        "medium_df = player_df[player_df['defensive_work_rate'] == 'medium']\n",
        "low_df = player_df[player_df['defensive_work_rate'] == 'low']\n",
        "\n",
        "low_strength = low_df['strength']\n",
        "medium_strength = medium_df['strength']\n",
        "high_strength = high_df['strength']\n",
        "\n",
        "stat, pval = stats.f_oneway(low_strength, medium_strength, high_strength)\n",
        "print(f\"F-test comparing strength by defensive work rate:\")\n",
        "print(f\"F = {stat}, p = {pval}\")\n",
        "\n",
        "\n",
        "\n",
        "result = stats.tukey_hsd(low_strength, medium_strength, high_strength)\n",
        "print(\"POST-HOC TEST:\", result)"
      ],
      "metadata": {
        "id": "1U3JRdzRg-ti",
        "colab": {
          "base_uri": "https://localhost:8080/"
        },
        "outputId": "e01bc451-4af8-41a7-acb2-bb048144f622"
      },
      "execution_count": null,
      "outputs": [
        {
          "output_type": "stream",
          "name": "stdout",
          "text": [
            "F-test comparing strength by defensive work rate:\n",
            "F = 186.44488705740156, p = 3.2643737455450335e-80\n",
            "POST-HOC TEST: Tukey's HSD Pairwise Group Comparisons (95.0% Confidence Interval)\n",
            "Comparison  Statistic  p-value  Lower CI  Upper CI\n",
            " (0 - 1)     -1.345     0.001    -2.236    -0.455\n",
            " (0 - 2)     -7.188     0.000    -8.264    -6.111\n",
            " (1 - 0)      1.345     0.001     0.455     2.236\n",
            " (1 - 2)     -5.842     0.000    -6.593    -5.092\n",
            " (2 - 0)      7.188     0.000     6.111     8.264\n",
            " (2 - 1)      5.842     0.000     5.092     6.593\n",
            "\n"
          ]
        }
      ]
    },
    {
      "cell_type": "markdown",
      "source": [
        "As we can see, we have a very low p-value, so we reject the null hypothesis. This means that there is a strong correlation between strength and defensive work rate."
      ],
      "metadata": {
        "id": "1QKV97Lum1hX"
      }
    },
    {
      "cell_type": "code",
      "source": [
        "\n",
        "# Calculate mean strength for each defensive work rate category\n",
        "strength_means = {\n",
        "    \"Low\": low_strength.mean(),\n",
        "    \"Medium\": medium_strength.mean(),\n",
        "    \"High\": high_strength.mean()\n",
        "}\n",
        "\n",
        "sns.barplot(x=list(strength_means.keys()), y=list(strength_means.values()))\n",
        "\n",
        "plt.xlabel(\"Defensive Work Rate\")\n",
        "plt.ylabel(\"Average Strength\")\n",
        "plt.title(\"Average Strength by Defensive Work Rate\")\n",
        "\n",
        "for i, v in enumerate(strength_means.values()):\n",
        "    plt.text(i, v + 1, f\"{v:.2f}\", ha='center', fontsize=12)\n",
        "\n",
        "plt.show()\n"
      ],
      "metadata": {
        "id": "BzHEBBMXj8YE",
        "colab": {
          "base_uri": "https://localhost:8080/",
          "height": 472
        },
        "outputId": "f3268e03-961d-4ce1-d9bf-aba2ceb2d3fe"
      },
      "execution_count": null,
      "outputs": [
        {
          "output_type": "display_data",
          "data": {
            "text/plain": [
              "<Figure size 640x480 with 1 Axes>"
            ],
            "image/png": "[encoded data removed]"
          },
          "metadata": {}
        }
      ]
    },
    {
      "cell_type": "markdown",
      "source": [
        "From the graph, the higher the defensive work rate, the higher the average strength. This follows with the hypothesis test."
      ],
      "metadata": {
        "id": "75sukSbho8Jc"
      }
    },
    {
      "cell_type": "markdown",
      "source": [
        "**Machine Learning**\n",
        "Now lets use some machine learning to make predictions based off our data.\n",
        "\n",
        "Let's try and predict a player's overall rating based on their physical and technical attributes, based on their age and potential. We will use a [random forest regressor](https://scikit-learn.org/stable/modules/generated/sklearn.ensemble.RandomForestRegressor.html). To give a brief explanation, random forest regressor is a ML model that works by having multiple decision trees. Each tree is trained on a random subset of the data and makes a prediction. At the end, the model takes the average all tree predictions and uses that as its final prediction\n",
        "\n",
        "To start we need to sort the player attribute data by date and then merge birthdays into player_attributes_df. This way we can get a player's age later.\n",
        "\n",
        "Next we can get a list of player attributes that we want to include in our ML model. Here we grab attributes that affect overall rating. We use forward and backward fill to handle any missing values in our data.\n",
        "\n",
        "After calculating age at every data point(as there are multiple data points per player showing a progression through the different FIFA games) and removing the overall_rating, because that is what we want to predict, we can setup the model. We split the data into training and testing sets and then run the random forest model. We predict the ratings using the test set and compute the mean squared error and root mean squared error. From the values we get below for the mean squared error and root mean squared error we determine that the overall rating only varies by about 1 from what we expected to get."
      ],
      "metadata": {
        "id": "BPBDlLh9_tJk"
      }
    },
    {
      "cell_type": "code",
      "source": [
        "player_attributes_df = player_attributes_df.sort_values(by=['player_api_id', 'date'])\n",
        "player_attributes_df = player_attributes_df.merge(\n",
        "    player_df[['player_api_id', 'birthday']],\n",
        "    on='player_api_id',\n",
        "    how='left'\n",
        ")"
      ],
      "metadata": {
        "id": "1bNQgxxCBPLT"
      },
      "execution_count": null,
      "outputs": []
    },
    {
      "cell_type": "code",
      "source": [
        "col_names = ['overall_rating', 'potential', 'crossing', 'finishing', 'heading_accuracy',\n",
        "       'short_passing', 'volleys', 'dribbling', 'curve', 'free_kick_accuracy',\n",
        "       'long_passing', 'ball_control', 'acceleration', 'sprint_speed',\n",
        "       'agility', 'reactions', 'balance', 'shot_power', 'jumping', 'stamina',\n",
        "       'strength', 'long_shots', 'aggression', 'interceptions', 'positioning',\n",
        "       'vision', 'penalties', 'marking', 'standing_tackle', 'sliding_tackle',\n",
        "       'gk_diving', 'gk_handling', 'gk_kicking', 'gk_positioning',\n",
        "       'gk_reflexes']\n",
        "grouped_players = player_attributes_df.groupby('player_api_id')[col_names]\n",
        "filled = grouped_players.transform(lambda x: x.ffill().bfill())\n",
        "player_attributes_df[col_names] = filled[col_names]\n",
        "player_attributes_df['age'] = (((player_attributes_df['date'] - player_attributes_df['birthday']).dt.days)/365.25).astype(int)\n",
        "features =  ['age', 'potential', 'crossing', 'finishing', 'heading_accuracy',\n",
        "       'short_passing', 'volleys', 'dribbling', 'curve', 'free_kick_accuracy',\n",
        "       'long_passing', 'ball_control', 'acceleration', 'sprint_speed',\n",
        "       'agility', 'reactions', 'balance', 'shot_power', 'jumping', 'stamina',\n",
        "       'strength', 'long_shots', 'aggression', 'interceptions', 'positioning',\n",
        "       'vision', 'penalties', 'marking', 'standing_tackle', 'sliding_tackle',\n",
        "       'gk_diving', 'gk_handling', 'gk_kicking', 'gk_positioning',\n",
        "       'gk_reflexes']"
      ],
      "metadata": {
        "id": "E1r7EL7tBd-V"
      },
      "execution_count": null,
      "outputs": []
    },
    {
      "cell_type": "code",
      "source": [
        "X = player_attributes_df[features]\n",
        "y = player_attributes_df['overall_rating']\n",
        "X_train, X_test, y_train, y_test = train_test_split(X, y, test_size=0.2, random_state=42)\n",
        "model = RandomForestRegressor(n_estimators=100, random_state=42)\n",
        "model.fit(X_train, y_train)\n",
        "y_pred = model.predict(X_test)\n",
        "mse = mean_squared_error(y_test, y_pred)\n",
        "print(f'MSE: {mse}')\n",
        "rmse = mse ** 0.5\n",
        "print(f'RMSE: {rmse}')\n"
      ],
      "metadata": {
        "id": "pa9CAeDcu1wO",
        "colab": {
          "base_uri": "https://localhost:8080/"
        },
        "outputId": "2c775f6f-e588-405d-b70a-7fbb6f6ce6da"
      },
      "execution_count": null,
      "outputs": [
        {
          "output_type": "stream",
          "name": "stdout",
          "text": [
            "MSE: 1.0133867800879777\n",
            "RMSE: 1.0066711380028621\n"
          ]
        }
      ]
    },
    {
      "cell_type": "markdown",
      "source": [
        "This graph shows the importance of each feature for determining the overall rating of a player, this function quantifies each feature's importance by how much it decreases the model's impurity overall. From the graph we can see that reactions, potential, and age are deemed important by the model."
      ],
      "metadata": {
        "id": "_ml-JKqUo3DB"
      }
    },
    {
      "cell_type": "code",
      "source": [
        "importances = pd.Series(model.feature_importances_, index=X_train.columns)\n",
        "importances = importances.sort_values(ascending=False)\n",
        "\n",
        "print(\"Top 10 attributes by mean decrease in impurity:\")\n",
        "print(importances.head(10))\n",
        "\n",
        "plt.figure(figsize=(8, 5))\n",
        "importances.plot(kind='bar')\n",
        "plt.title(\"Feature Importances\")\n",
        "plt.ylabel(\"Mean Decrease in Impurity\")\n",
        "plt.xlabel(\"Feature\")\n",
        "plt.xticks(rotation=45, ha=\"right\")\n",
        "plt.tight_layout()\n",
        "plt.show()"
      ],
      "metadata": {
        "id": "09B8Q3Eubsmo",
        "colab": {
          "base_uri": "https://localhost:8080/",
          "height": 720
        },
        "outputId": "4fb8941e-2d18-4c7f-c56c-0cc19fcd27d8"
      },
      "execution_count": null,
      "outputs": [
        {
          "output_type": "stream",
          "name": "stdout",
          "text": [
            "Top 10 attributes by mean decrease in impurity:\n",
            "reactions           0.438206\n",
            "potential           0.271259\n",
            "age                 0.123412\n",
            "ball_control        0.038513\n",
            "standing_tackle     0.018914\n",
            "marking             0.009041\n",
            "heading_accuracy    0.007889\n",
            "gk_positioning      0.005864\n",
            "finishing           0.005651\n",
            "positioning         0.005457\n",
            "dtype: float64\n"
          ]
        },
        {
          "output_type": "display_data",
          "data": {
            "text/plain": [
              "<Figure size 800x500 with 1 Axes>"
            ],
            "image/png": "[encoded data removed]"
          },
          "metadata": {}
        }
      ]
    },
    {
      "cell_type": "code",
      "source": [
        "comparison_df = X_test.copy()\n",
        "comparison_df['actual'] = y_test\n",
        "comparison_df['predicted'] = y_pred"
      ],
      "metadata": {
        "id": "OgJcc1lB9jIp"
      },
      "execution_count": null,
      "outputs": []
    },
    {
      "cell_type": "markdown",
      "source": [
        "This graph shows the accuracy of our prediction on players reaching their ability year by year. For this graph we can see that the predicted overall is relatively close for most data points.\n"
      ],
      "metadata": {
        "id": "8dPSQCtRwuEP"
      }
    },
    {
      "cell_type": "code",
      "source": [
        "plt.scatter(comparison_df['actual'], comparison_df['predicted'])\n",
        "plt.plot([min(y_test), max(y_test)], [min(y_test), max(y_test)], color='red')\n",
        "plt.xlabel('Actual Rating')\n",
        "plt.ylabel('Predicted Rating')\n",
        "plt.title('Prediction Accuracy')\n",
        "plt.show()"
      ],
      "metadata": {
        "id": "3n3B_O6B9o6-",
        "colab": {
          "base_uri": "https://localhost:8080/",
          "height": 472
        },
        "outputId": "90adfd9d-1142-423b-d505-3cff1a46ba3f"
      },
      "execution_count": null,
      "outputs": [
        {
          "output_type": "display_data",
          "data": {
            "text/plain": [
              "<Figure size 640x480 with 1 Axes>"
            ],
            "image/png": "[encoded data removed]"
          },
          "metadata": {}
        }
      ]
    },
    {
      "cell_type": "markdown",
      "source": [
        "**Predicting match outcomes based on each teams average player rating**  \n",
        "First we need to establish and clean up the match data."
      ],
      "metadata": {
        "id": "A3RapMK0G__h"
      }
    },
    {
      "cell_type": "code",
      "source": [
        "match_df = pd.read_csv(\"Match.csv\")\n",
        "match_df['date'] = pd.to_datetime(match_df['date'])"
      ],
      "metadata": {
        "id": "5dyWHWDn8_fk"
      },
      "execution_count": null,
      "outputs": []
    },
    {
      "cell_type": "markdown",
      "source": [
        "We can create a subset of the match data with only the features we are going to use. In this case we need the id, date, api id of each team, the number of goals for the home and away teams, and the player ids of the players from each team."
      ],
      "metadata": {
        "id": "iESKJkiOHqwy"
      }
    },
    {
      "cell_type": "code",
      "source": [
        "home_player_cols = [f'home_player_{i}' for i in range(1, 12)]\n",
        "away_player_cols = [f'away_player_{i}' for i in range(1, 12)]\n",
        "\n",
        "match_subset = match_df[['id', 'date', 'home_team_api_id', 'away_team_api_id', 'home_team_goal', 'away_team_goal'] + home_player_cols + away_player_cols]"
      ],
      "metadata": {
        "id": "M6y5t-l2Hn8X"
      },
      "execution_count": null,
      "outputs": []
    },
    {
      "cell_type": "markdown",
      "source": [
        "Many of the matches may be missing information on some of the players. We don't necessarily want to get rid of matches with a single player missing but let's filter out matches with more than 2 players missing from either team and see what that leaves us with."
      ],
      "metadata": {
        "id": "4tYpGHuGJMiz"
      }
    },
    {
      "cell_type": "code",
      "source": [
        "missing_home = match_subset[home_player_cols].isnull().sum(axis=1)\n",
        "missing_away = match_subset[away_player_cols].isnull().sum(axis=1)\n",
        "\n",
        "match_subset = match_subset[(missing_home <= 2) & (missing_away <= 2)].copy()\n",
        "\n",
        "print(f\"Matches after filtering: {len(match_subset)}\")"
      ],
      "metadata": {
        "id": "r62_fLTvJbnF",
        "colab": {
          "base_uri": "https://localhost:8080/"
        },
        "outputId": "48e2ed60-b990-405f-addc-9451ea970099"
      },
      "execution_count": null,
      "outputs": [
        {
          "output_type": "stream",
          "name": "stdout",
          "text": [
            "Matches after filtering: 24185\n"
          ]
        }
      ]
    },
    {
      "cell_type": "markdown",
      "source": [
        "Thankfully there still seems to be a good number of matches to work with."
      ],
      "metadata": {
        "id": "x-7Utu4ZENxQ"
      }
    },
    {
      "cell_type": "markdown",
      "source": [
        "To make things easier for when we get team ratings, we can create two new columns in match_subset containing lists of the player ids from each team."
      ],
      "metadata": {
        "id": "KZQC0ImJKF_r"
      }
    },
    {
      "cell_type": "code",
      "source": [
        "match_subset['home_players'] = match_subset[home_player_cols].values.tolist()\n",
        "match_subset['away_players'] = match_subset[away_player_cols].values.tolist()\n",
        "\n",
        "player_ratings = player_attributes_df[['player_api_id', 'date', 'overall_rating']].dropna()\n",
        "\n"
      ],
      "metadata": {
        "id": "Q6esRwtzENC8"
      },
      "execution_count": null,
      "outputs": []
    },
    {
      "cell_type": "markdown",
      "source": [
        "Each player can show up multiple times in this dataset since their performance and ratings have likely changed throughout the years. Logically we would want to predict the results of a match based on the stats of each teams players at the time. To do this we can first create a dictionary containing each players rating history. Then when we later retrieve each player's ratings to calculate average team ratings, we can find their most recent rating before the match."
      ],
      "metadata": {
        "id": "lyf_M4Ucw82k"
      }
    },
    {
      "cell_type": "code",
      "source": [
        "from collections import defaultdict\n",
        "\n",
        "player_rating_history = defaultdict(list)\n",
        "\n",
        "for _, row in player_ratings.iterrows():\n",
        "    player_rating_history[row['player_api_id']].append((row['date'], row['overall_rating']))\n",
        "\n",
        "for player in player_rating_history:\n",
        "    player_rating_history[player].sort()\n",
        "\n",
        "def get_team_rating(player_ids, match_date):\n",
        "    ratings = []\n",
        "    for pid in player_ids:\n",
        "        if pid not in player_rating_history:\n",
        "            continue\n",
        "\n",
        "        past_ratings = [r for d, r in player_rating_history[pid] if d <= match_date]\n",
        "        if past_ratings:\n",
        "            ratings.append(past_ratings[-1])\n",
        "    if ratings:\n",
        "        return np.mean(ratings)\n",
        "    else:\n",
        "        return np.nan\n",
        "\n",
        "match_subset['home_team_rating'] = match_subset.apply(\n",
        "    lambda row: get_team_rating(row['home_players'], row['date']), axis=1)\n",
        "\n",
        "match_subset['away_team_rating'] = match_subset.apply(\n",
        "    lambda row: get_team_rating(row['away_players'], row['date']), axis=1)"
      ],
      "metadata": {
        "id": "5fBCqt0Nw9RW"
      },
      "execution_count": null,
      "outputs": []
    },
    {
      "cell_type": "markdown",
      "source": [
        "The match dataset doesn't actually have a column telling us which team won, but they do provide the number of goals scored by each team. We can use this to determine if the home or away team won. We'll say the away team won any draws since the home team should've done better."
      ],
      "metadata": {
        "id": "qE6cb9pqyGv8"
      }
    },
    {
      "cell_type": "code",
      "source": [
        "def match_result(home_goals, away_goals):\n",
        "    if home_goals > away_goals:\n",
        "        return 1\n",
        "    else:\n",
        "        return 2\n",
        "\n",
        "match_subset['result'] = match_subset.apply(\n",
        "    lambda row: match_result(row['home_team_goal'], row['away_team_goal']), axis=1)"
      ],
      "metadata": {
        "id": "wMMTbKcXyG-s"
      },
      "execution_count": null,
      "outputs": []
    },
    {
      "cell_type": "markdown",
      "source": [
        "Let's also add a column with the difference between the two teams average player rating for good measure"
      ],
      "metadata": {
        "id": "grzu7bxy0aSa"
      }
    },
    {
      "cell_type": "code",
      "source": [
        "match_subset['rating_diff'] = match_subset['home_team_rating'] - match_subset['away_team_rating']"
      ],
      "metadata": {
        "id": "n9M8fkWP0ajk"
      },
      "execution_count": null,
      "outputs": []
    },
    {
      "cell_type": "markdown",
      "source": [
        "New we can start building our model. Our input features are the home teams average rating, the away teams average rating, and the difference between the two. Our Target is the result of the match."
      ],
      "metadata": {
        "id": "-iZdVisD0pxe"
      }
    },
    {
      "cell_type": "code",
      "source": [
        "features = match_subset[['home_team_rating', 'away_team_rating', 'rating_diff']].dropna()\n",
        "labels = match_subset.loc[features.index, 'result']\n",
        "\n",
        "X_train, X_test, y_train, y_test = train_test_split(\n",
        "    features, labels, test_size=0.2, random_state=42, stratify=labels)\n",
        "\n",
        "print(\"Train size:\", X_train.shape)\n",
        "print(\"Test size:\", X_test.shape)\n",
        "print(\"Class distribution in train set:\")\n",
        "print(y_train.value_counts(normalize=True))\n",
        "\n",
        "model = LogisticRegression(multi_class='ovr', solver='liblinear', random_state=42)\n",
        "\n",
        "model.fit(X_train, y_train)\n",
        "\n",
        "y_pred = model.predict(X_test)\n",
        "\n",
        "accuracy = accuracy_score(y_test, y_pred)\n",
        "print(f\"Accuracy: {accuracy:.4f}\")\n",
        "\n",
        "print(\"Classification Report:\")\n",
        "print(classification_report(y_test, y_pred))\n",
        "\n",
        "print(\"Confusion Matrix:\")\n",
        "cm = confusion_matrix(y_test, y_pred)\n",
        "sns.heatmap(cm, annot=True, fmt='d', xticklabels=['Home Win', 'Away Win'], yticklabels=['Home Win', 'Away Win'])\n",
        "plt.xlabel('Predicted')\n",
        "plt.ylabel('Actual')\n",
        "plt.show()"
      ],
      "metadata": {
        "id": "Kvsd9MtW0pMB",
        "colab": {
          "base_uri": "https://localhost:8080/",
          "height": 844
        },
        "outputId": "7af993b2-3ac2-4979-ddde-c142a736416d"
      },
      "execution_count": null,
      "outputs": [
        {
          "output_type": "stream",
          "name": "stdout",
          "text": [
            "Train size: (19348, 3)\n",
            "Test size: (4837, 3)\n",
            "Class distribution in train set:\n",
            "result\n",
            "2    0.542588\n",
            "1    0.457412\n",
            "Name: proportion, dtype: float64\n",
            "Accuracy: 0.6452\n",
            "Classification Report:\n",
            "              precision    recall  f1-score   support\n",
            "\n",
            "           1       0.64      0.52      0.57      2213\n",
            "           2       0.65      0.75      0.70      2624\n",
            "\n",
            "    accuracy                           0.65      4837\n",
            "   macro avg       0.64      0.64      0.63      4837\n",
            "weighted avg       0.64      0.65      0.64      4837\n",
            "\n",
            "Confusion Matrix:\n"
          ]
        },
        {
          "output_type": "stream",
          "name": "stderr",
          "text": [
            "/usr/local/lib/python3.11/dist-packages/sklearn/linear_model/_logistic.py:1256: FutureWarning: 'multi_class' was deprecated in version 1.5 and will be removed in 1.7. Use OneVsRestClassifier(LogisticRegression(..)) instead. Leave it to its default value to avoid this warning.\n",
            "  warnings.warn(\n"
          ]
        },
        {
          "output_type": "display_data",
          "data": {
            "text/plain": [
              "<Figure size 640x480 with 2 Axes>"
            ],
            "image/png": "[encoded data removed]"
          },
          "metadata": {}
        }
      ]
    },
    {
      "cell_type": "markdown",
      "source": [
        "We got an overall accuracy and individual precisions of around 64 percent. This might not seem very high, but for a highly variable result this is actually pretty good. Rather than each team having and equal chance of winning, this suggests there is a distinct influence player rating has over the match result."
      ],
      "metadata": {
        "id": "XNw8bPMb4XYM"
      }
    },
    {
      "cell_type": "markdown",
      "source": [
        "**Final Thoughts**\n",
        "\n",
        "With all our data we can now always determine which team will win! Right? Well, not exactly.\n",
        "\n",
        "Our results from the graphs are not as straight forward as we want it to be. This is because there are many factors within teams and players that can influence a prediction of a match. While going through our data and making insights there are a couple things we noticed to look out for when predicting performances.\n",
        "\n",
        "1. When looking at player attributes to determine player ratings, we have realized there is a significant relationship between a player's age and their attributes, of which using **T-tests**, we displayed speed and acceleration. In both of these graphs, the variance as age goes up decreases (less outliers), further reinforcing the idea that age is very important and impacts players attributes, possibly lowering their rating due to age. Therefore, younger players will typically perform better than older players no matter what, making age a big factor to player rating.\n",
        "\n",
        "2. Some unexpected things we noticed were some data not having strong correlations such as vision and aggressiveness. While exploring data, such as the correlation of vision and aggressiveness, our p-value is incredibly low meaning there was a strong correlation, yet the graph shows otherwise. We were confused but unfortunately some data results in this and, for us, will not play a huge role in determining player rating nor an outcome of a game.\n",
        "\n",
        "3. When looking at the graph focusing on the correlation between Average Strength and Defensive Work Rate, teams consisted of players in defensive roles being significantly stronger than non defensive roles. Therefore it is important to think about how teams are set up, as it seems popular to have stronger players on the defense. This may be because those with low defense may have higher agility or other skills.\n",
        "\n",
        "We also need to keep in mind our model may not be fully right as our feature importances displays reactions, potential, and age as the most important traits which was definitely unexpecting. However, when we thought about it we realize that these three traits are more universal, while other traits are more role dependent. Regardless, we also assume our model is pretty inaccurate as some stats such as speed and agility are at the bottom, which while not as important, can influence how a player performs.\n",
        "\n",
        "Our model does not take into account player roles and positioning and is more generalized by taking player stats at face value. In future models we want to take these into consideration and ideally get more accurate results.\n",
        "\n",
        "Overall, while needing some refinements, our machine learning model can be used as a guide to help determine which team will perform the best. While not fully accurate, it is a good baseline as our model tries its best to give reasonable odds using player attributes and ratings of players in each team."
      ],
      "metadata": {
        "id": "VfMXM8M4plsZ"
      }
    }
  ]
}